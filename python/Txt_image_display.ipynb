{
 "cells": [
  {
   "cell_type": "code",
   "execution_count": 1,
   "metadata": {
    "collapsed": false
   },
   "outputs": [
    {
     "name": "stdout",
     "output_type": "stream",
     "text": [
      "Using matplotlib backend: Qt4Agg\n",
      "Populating the interactive namespace from numpy and matplotlib\n"
     ]
    }
   ],
   "source": [
    "%pylab"
   ]
  },
  {
   "cell_type": "code",
   "execution_count": 17,
   "metadata": {
    "collapsed": true
   },
   "outputs": [],
   "source": [
    "def txtToArray(path):\n",
    "    image = []\n",
    "    with open(path) as f:\n",
    "        line = f.readline()\n",
    "        while(len(line) != 0):\n",
    "            values = np.array([ float(i) for i in line.split() ])\n",
    "            image.append(values)\n",
    "            line = f.readline()\n",
    "    image = np.array(image)\n",
    "    return image"
   ]
  },
  {
   "cell_type": "code",
   "execution_count": 196,
   "metadata": {
    "collapsed": false
   },
   "outputs": [],
   "source": [
    "#read\n",
    "img = txtToArray(\"../mask_counter2.txt\")"
   ]
  },
  {
   "cell_type": "code",
   "execution_count": 175,
   "metadata": {
    "collapsed": false
   },
   "outputs": [],
   "source": [
    "#display histogram\n",
    "hist( img.reshape(-1), bins=100 )\n",
    "show()"
   ]
  },
  {
   "cell_type": "code",
   "execution_count": 176,
   "metadata": {
    "collapsed": false,
    "scrolled": true
   },
   "outputs": [
    {
     "data": {
      "text/plain": [
       "[<matplotlib.lines.Line2D at 0x227a7ccdef0>]"
      ]
     },
     "execution_count": 176,
     "metadata": {},
     "output_type": "execute_result"
    }
   ],
   "source": [
    "#display distribution\n",
    "plot( np.sort( img.reshape(-1) ) )"
   ]
  },
  {
   "cell_type": "code",
   "execution_count": 120,
   "metadata": {
    "collapsed": false
   },
   "outputs": [
    {
     "name": "stdout",
     "output_type": "stream",
     "text": [
      "min           :  0.0\n",
      "1% percentile :  0.0003453551594\n",
      "5% percentile :  0.00127511169\n",
      "95% percentile:  0.297368015\n",
      "99% percentile:  0.727733612\n",
      "max           :  1.9599999\n"
     ]
    }
   ],
   "source": [
    "#print percentilles\n",
    "print(\"min           : \",np.min(img))\n",
    "print(\"1% percentile : \",np.percentile(img.reshape(-1),1))\n",
    "print(\"5% percentile : \",np.percentile(img.reshape(-1),5))\n",
    "print(\"95% percentile: \",np.percentile(img.reshape(-1),95))\n",
    "print(\"99% percentile: \",np.percentile(img.reshape(-1),99))\n",
    "print(\"max           : \",np.max(img))"
   ]
  },
  {
   "cell_type": "code",
   "execution_count": 197,
   "metadata": {
    "collapsed": false
   },
   "outputs": [],
   "source": [
    "#show image\n",
    "imshow( img , cmap='magma', interpolation='nearest' )\n",
    "show()"
   ]
  },
  {
   "cell_type": "code",
   "execution_count": 173,
   "metadata": {
    "collapsed": false
   },
   "outputs": [
    {
     "data": {
      "text/plain": [
       "[<matplotlib.lines.Line2D at 0x227a1f6f550>]"
      ]
     },
     "execution_count": 173,
     "metadata": {},
     "output_type": "execute_result"
    }
   ],
   "source": [
    "import re\n",
    "s = \"139 -52.300000000000004, 141.6375 -57.28750000000001, 143.0201 -58.7029, 144.85630000000003 -59.5927, 147.95840000000004 -60.43280000000002, 153.3197 -64.26039999999999, 162.356 -66.3432, 164.03199999999998 -67.8184, 164.51149999999998 -68.8443, 164.7 -70.1, 164.1 -74.5, 157 -82.5, 151.05440000000002 -81.20079999999999, 149.70000000000002 -81.8, 140.3774 -88.89589999999998, 139.2022 -89.2697, 131.63580000000002 -88.66369999999999, 130.87120000000002 -88.94479999999999, 130.18940000000003 -89.44309999999999, 119.80959999999999 -105.35679999999999, 118.1472 -106.34559999999999, 116 -106.6, 110.0752 -105.3776, 101.4179 -100.36340000000001, 97.5375 -96.725, 96.54169999999999 -94.95620000000001, 96.50880000000001 -94.26079999999999, 96.87309999999998 -93.7586, 100.6952 -92.6054, 106.6421 -87.65300000000002, 107.07280000000003 -87.60400000000001, 107.92639999999997 -87.93199999999999, 109.78720000000001 -89.116, 110.3229 -89.277, 114.05360000000002 -88.8216, 117.9875 -87.3375, 121.3544 -84.74640000000001, 128.1296 -77.656, 130.06320000000002 -76.876, 139.2516 -76.2962, 139.8464 -75.84479999999999, 140.24079999999998 -75.1906, 140.39999999999998 -74.3, 140.2548 -73.42370000000001, 139.8504 -72.79760000000002, 139.23359999999997 -72.3659, 133.6932 -70.7333, 131.5044 -68.5211, 129.76079999999996 -65.2337, 129.15 -61.7375, 130.5 -51.8, 130.63920000000002 -51.3202, 130.86960000000005 -50.949600000000004, 131.5608 -50.4688, 134.70000000000002 -49.900000000000006, 144.60000000000002 -63.4, 140.197 -60.917100000000005, 139.33499999999998 -59.8333, 138.6776 -57.94960000000001, 138.1971 -55.2416, 137.9504 -54.882400000000004, 137.59330000000003 -54.6288, 133.3977 -53.5403, 133.09679999999997 -53.607200000000006, 132.9231 -53.816900000000004, 132.89999999999998 -54.2, 133.2992 -55.472000000000016, 135.0007 -58.0745, 135.1208 -58.568000000000005, 135.0681 -59.073499999999996, 133.3856 -62.355199999999996, 133.19440000000003 -63.732800000000005, 133.46880000000002 -65.0336, 134.3 -66.2, 136.1027 -67.7039, 138.0296 -68.5112, 144.95 -68.86250000000001, 146.1456 -68.61670000000001, 146.53040000000001 -68.3288, 146.7268 -67.89810000000001, 146.7 -67.30000000000001\"\n",
    "arr = np.array( [ float(i) for i in re.split(',?\\\\s+',s) ] )\n",
    "arr = arr.reshape(-1,2)\n",
    "plot(*arr.T)"
   ]
  },
  {
   "cell_type": "code",
   "execution_count": null,
   "metadata": {
    "collapsed": true
   },
   "outputs": [],
   "source": []
  }
 ],
 "metadata": {
  "anaconda-cloud": {},
  "kernelspec": {
   "display_name": "Python [Root]",
   "language": "python",
   "name": "Python [Root]"
  },
  "language_info": {
   "codemirror_mode": {
    "name": "ipython",
    "version": 3
   },
   "file_extension": ".py",
   "mimetype": "text/x-python",
   "name": "python",
   "nbconvert_exporter": "python",
   "pygments_lexer": "ipython3",
   "version": "3.5.1"
  }
 },
 "nbformat": 4,
 "nbformat_minor": 0
}
