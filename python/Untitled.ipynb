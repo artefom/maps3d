{
 "cells": [
  {
   "cell_type": "code",
   "execution_count": 1,
   "metadata": {
    "collapsed": false
   },
   "outputs": [
    {
     "name": "stdout",
     "output_type": "stream",
     "text": [
      "Using matplotlib backend: Qt4Agg\n",
      "Populating the interactive namespace from numpy and matplotlib\n"
     ]
    }
   ],
   "source": [
    "%pylab"
   ]
  },
  {
   "cell_type": "code",
   "execution_count": 2,
   "metadata": {
    "collapsed": false
   },
   "outputs": [
    {
     "name": "stderr",
     "output_type": "stream",
     "text": [
      "C:\\Users\\Artyom.Fomenko\\Anaconda3\\lib\\site-packages\\sklearn\\lda.py:4: DeprecationWarning: lda.LDA has been moved to discriminant_analysis.LinearDiscriminantAnalysis in 0.17 and will be removed in 0.19\n",
      "  \"in 0.17 and will be removed in 0.19\", DeprecationWarning)\n",
      "C:\\Users\\Artyom.Fomenko\\Anaconda3\\lib\\site-packages\\sklearn\\qda.py:4: DeprecationWarning: qda.QDA has been moved to discriminant_analysis.QuadraticDiscriminantAnalysis in 0.17 and will be removed in 0.19.\n",
      "  \"in 0.17 and will be removed in 0.19.\", DeprecationWarning)\n"
     ]
    }
   ],
   "source": [
    "import json\n",
    "import pandas\n",
    "import sklearn as sk\n",
    "from sklearn import *\n",
    "from pandas.tools.plotting import *\n",
    "import pydot\n",
    "import io\n",
    "import seaborn as sns\n",
    "from itertools import *"
   ]
  },
  {
   "cell_type": "markdown",
   "metadata": {},
   "source": [
    "### Helper functions"
   ]
  },
  {
   "cell_type": "code",
   "execution_count": 54,
   "metadata": {
    "collapsed": false
   },
   "outputs": [],
   "source": [
    "def foo(x,v_from,v_to):\n",
    "    return 1/(1+math.exp(-((x-(v_to+v_from)*0.5)/(v_to-v_from)*12)))"
   ]
  },
  {
   "cell_type": "code",
   "execution_count": 55,
   "metadata": {
    "collapsed": false
   },
   "outputs": [
    {
     "data": {
      "text/plain": [
       "[<matplotlib.lines.Line2D at 0x21c0482d6d8>]"
      ]
     },
     "execution_count": 55,
     "metadata": {},
     "output_type": "execute_result"
    }
   ],
   "source": [
    "x = np.linspace(-6,6,100)\n",
    "plot(x,[ foo(i,0,4) for i in x])"
   ]
  },
  {
   "cell_type": "code",
   "execution_count": null,
   "metadata": {
    "collapsed": true
   },
   "outputs": [],
   "source": []
  },
  {
   "cell_type": "code",
   "execution_count": 3,
   "metadata": {
    "collapsed": true
   },
   "outputs": [],
   "source": [
    "sns.set()\n",
    "def rolling_window(a, window):\n",
    "    shape = a.shape[:-1] + (a.shape[-1] - window + 1, window)\n",
    "    strides = a.strides + (a.strides[-1],)\n",
    "    return np.lib.stride_tricks.as_strided(a, shape=shape, strides=strides)\n",
    "\n",
    "def rules(clf, features, labels, node_index=0):\n",
    "    \"\"\"Structure of rules in a fit decision tree classifier\n",
    "\n",
    "    Parameters\n",
    "    ----------\n",
    "    clf : DecisionTreeClassifier\n",
    "        A tree that has already been fit.\n",
    "\n",
    "    features, labels : lists of str\n",
    "        The names of the features and labels, respectively.\n",
    "\n",
    "    \"\"\"\n",
    "    node = {}\n",
    "    if clf.tree_.children_left[node_index] == -1:  # indicates leaf\n",
    "        count_labels = zip(clf.tree_.value[node_index, 0], labels)\n",
    "        node['name'] = ', '.join(('{} of {}'.format(int(count), label)\n",
    "                                  for count, label in count_labels))\n",
    "    else:\n",
    "        feature = features[clf.tree_.feature[node_index]]\n",
    "        threshold = clf.tree_.threshold[node_index]\n",
    "        node['name'] = '{} > {}'.format(feature, threshold)\n",
    "        left_index = clf.tree_.children_left[node_index]\n",
    "        right_index = clf.tree_.children_right[node_index]\n",
    "        node['children'] = [rules(clf, features, labels, right_index),\n",
    "                            rules(clf, features, labels, left_index)]\n",
    "    return node\n",
    "\n",
    "def log_progress(sequence, every=None, size=None):\n",
    "    from ipywidgets import IntProgress, HTML, VBox\n",
    "    from IPython.display import display\n",
    "\n",
    "    is_iterator = False\n",
    "    if size is None:\n",
    "        try:\n",
    "            size = len(sequence)\n",
    "        except TypeError:\n",
    "            is_iterator = True\n",
    "    if size is not None:\n",
    "        if every is None:\n",
    "            if size <= 200:\n",
    "                every = 1\n",
    "            else:\n",
    "                every = size / 200     # every 0.5%\n",
    "    else:\n",
    "        assert every is not None, 'sequence is iterator, set every'\n",
    "\n",
    "    if is_iterator:\n",
    "        progress = IntProgress(min=0, max=1, value=1)\n",
    "        progress.bar_style = 'info'\n",
    "    else:\n",
    "        progress = IntProgress(min=0, max=size, value=0)\n",
    "    label = HTML()\n",
    "    box = VBox(children=[label, progress])\n",
    "    display(box)\n",
    "\n",
    "    index = 0\n",
    "    try:\n",
    "        for index, record in enumerate(sequence, 1):\n",
    "            if index == 1 or index % every == 0:\n",
    "                if is_iterator:\n",
    "                    label.value = '{index} / ?'.format(index=index)\n",
    "                else:\n",
    "                    progress.value = index\n",
    "                    label.value = u'{index} / {size}'.format(\n",
    "                        index=index,\n",
    "                        size=size\n",
    "                    )\n",
    "            yield record\n",
    "    except:\n",
    "        progress.bar_style = 'danger'\n",
    "        raise\n",
    "    else:\n",
    "        progress.bar_style = 'success'\n",
    "        progress.value = index\n",
    "        label.value = str(index or '?')\n",
    "        \n",
    "def cvAdvanced(clf,X,Y,**kwargs):\n",
    "    fscores_min = []\n",
    "    precision_min = []\n",
    "    recall_min = []\n",
    "    roc_min = []\n",
    "    \n",
    "    classification = not kwargs.get(\"regression\")\n",
    "\n",
    "    mistake_counts = np.zeros(len(Y))\n",
    "\n",
    "    for size in log_progress( np.linspace(2000,len(Y),50) ):\n",
    "        size = int(size)\n",
    "        ids = np.arange(len(Y))\n",
    "        np.random.shuffle(ids)\n",
    "        ids = ids[:size]\n",
    "        Y_base = Y[ids]\n",
    "        X_base = X[ids]\n",
    "\n",
    "        fold = sk.cross_validation.StratifiedKFold(Y_base,n_folds=3,shuffle=True,random_state=42)\n",
    "        fscores = []\n",
    "        precisions = []\n",
    "        recalls = []\n",
    "        rocs = []\n",
    "        for train_ids, test_ids in fold:\n",
    "            X_train = X_base[train_ids]\n",
    "            Y_train = Y_base[train_ids]\n",
    "            X_test = X_base[test_ids]\n",
    "            Y_test = Y_base[test_ids]\n",
    "\n",
    "            clf.fit(X_train,Y_train)\n",
    "\n",
    "            Y_pred = clf.predict(X_test)\n",
    "\n",
    "            if (classification):\n",
    "                fscore = sk.metrics.f1_score(Y_test,Y_pred)\n",
    "                precision = sk.metrics.precision_score(Y_test,Y_pred)\n",
    "                recall = sk.metrics.recall_score(Y_test,Y_pred)\n",
    "            roc_auc = sk.metrics.roc_auc_score(Y_test,Y_pred) #clf.score(X_test,Y_test)\n",
    "\n",
    "            mistake_counts[ ids[ test_ids[Y_test != Y_pred] ] ] += 1 \n",
    "            if (classification):\n",
    "                fscores.append(fscore)\n",
    "                precisions.append(precision)\n",
    "                recalls.append(recall)\n",
    "            rocs.append(roc_auc)\n",
    "\n",
    "        if (classification):\n",
    "            fscores_min.append( min(fscores) )\n",
    "            precision_min.append( min(precisions) )\n",
    "            recall_min.append( min(recalls) )\n",
    "        roc_min.append(min(rocs))\n",
    "\n",
    "    if (classification):\n",
    "        fscores_min = np.array(fscores_min)\n",
    "        fscores_min = np.mean(rolling_window(fscores_min, 2), -1)\n",
    "\n",
    "        precision_min = np.array(precision_min)\n",
    "        precision_min = np.mean(rolling_window(precision_min, 2), -1)\n",
    "\n",
    "        recall_min = np.array(recall_min)\n",
    "        recall_min = np.mean(rolling_window(recall_min, 2), -1)\n",
    "\n",
    "    roc_min = np.array(roc_min)\n",
    "    roc_min = np.mean(rolling_window(roc_min,2),-1)\n",
    "\n",
    "    if (classification):\n",
    "        print(\"f score:\",fscores[-1])\n",
    "        print(\"precision:\",precision_min[-1])\n",
    "        print(\"recall:\",recall_min[-1])\n",
    "        print(\"roc :\",roc_min[-1])\n",
    "        return fscores_min, precision_min, recall_min, roc_min, mistake_counts\n",
    "    else:\n",
    "        print(\"score: \",roc_min[-1])\n",
    "        return None, None, None, roc_min, mistake_counts"
   ]
  },
  {
   "cell_type": "markdown",
   "metadata": {},
   "source": [
    "# Connections"
   ]
  },
  {
   "cell_type": "markdown",
   "metadata": {},
   "source": [
    "### Load data"
   ]
  },
  {
   "cell_type": "code",
   "execution_count": 4,
   "metadata": {
    "collapsed": false
   },
   "outputs": [
    {
     "name": "stdout",
     "output_type": "stream",
     "text": [
      "['Y' 'x1' 'y1' 'x2' 'y2' 'signed_angle_sum' 'angle_sum' 'angle_sum_equals'\n",
      " 'signed_angle_more_than_PI' 'distance' 'distance_closest_line' 'score'\n",
      " 'cons_score_max' 'cons_score_mean' 'cons_curMax' 'inters_score_max'\n",
      " 'inters_score_mean' 'strong' 'GroupID']\n",
      "16392 duplicates dropped\n"
     ]
    },
    {
     "data": {
      "text/html": [
       "<div>\n",
       "<table border=\"1\" class=\"dataframe\">\n",
       "  <thead>\n",
       "    <tr style=\"text-align: right;\">\n",
       "      <th></th>\n",
       "      <th>Y</th>\n",
       "      <th>x1</th>\n",
       "      <th>y1</th>\n",
       "      <th>x2</th>\n",
       "      <th>y2</th>\n",
       "      <th>signed_angle_sum</th>\n",
       "      <th>angle_sum</th>\n",
       "      <th>angle_sum_equals</th>\n",
       "      <th>signed_angle_more_than_PI</th>\n",
       "      <th>distance</th>\n",
       "      <th>distance_closest_line</th>\n",
       "      <th>score</th>\n",
       "      <th>cons_score_max</th>\n",
       "      <th>cons_score_mean</th>\n",
       "      <th>cons_curMax</th>\n",
       "      <th>inters_score_max</th>\n",
       "      <th>inters_score_mean</th>\n",
       "      <th>strong</th>\n",
       "      <th>GroupID</th>\n",
       "    </tr>\n",
       "  </thead>\n",
       "  <tbody>\n",
       "    <tr>\n",
       "      <th>count</th>\n",
       "      <td>135824.000000</td>\n",
       "      <td>135824.000000</td>\n",
       "      <td>135824.000000</td>\n",
       "      <td>135824.000000</td>\n",
       "      <td>135824.000000</td>\n",
       "      <td>1.358240e+05</td>\n",
       "      <td>135824.000000</td>\n",
       "      <td>135824.000000</td>\n",
       "      <td>135824.000000</td>\n",
       "      <td>135824.000000</td>\n",
       "      <td>135824.0</td>\n",
       "      <td>1.358240e+05</td>\n",
       "      <td>135824.000000</td>\n",
       "      <td>135824.0</td>\n",
       "      <td>135824.0</td>\n",
       "      <td>135824.000000</td>\n",
       "      <td>135824.0</td>\n",
       "      <td>135824.000000</td>\n",
       "      <td>135824.000000</td>\n",
       "    </tr>\n",
       "    <tr>\n",
       "      <th>mean</th>\n",
       "      <td>0.050234</td>\n",
       "      <td>2238.391176</td>\n",
       "      <td>-1625.320838</td>\n",
       "      <td>2238.090260</td>\n",
       "      <td>-1625.122274</td>\n",
       "      <td>2.485204e+00</td>\n",
       "      <td>2.226474</td>\n",
       "      <td>0.431743</td>\n",
       "      <td>0.431743</td>\n",
       "      <td>51.131191</td>\n",
       "      <td>0.0</td>\n",
       "      <td>5.004195e-02</td>\n",
       "      <td>-4.616268</td>\n",
       "      <td>0.0</td>\n",
       "      <td>0.0</td>\n",
       "      <td>-197.350984</td>\n",
       "      <td>0.0</td>\n",
       "      <td>0.670029</td>\n",
       "      <td>0.568257</td>\n",
       "    </tr>\n",
       "    <tr>\n",
       "      <th>std</th>\n",
       "      <td>0.218429</td>\n",
       "      <td>4297.113297</td>\n",
       "      <td>4186.021636</td>\n",
       "      <td>4297.330842</td>\n",
       "      <td>4185.880085</td>\n",
       "      <td>1.934537e+00</td>\n",
       "      <td>1.178969</td>\n",
       "      <td>0.495321</td>\n",
       "      <td>0.495321</td>\n",
       "      <td>38.375287</td>\n",
       "      <td>0.0</td>\n",
       "      <td>1.320160e-01</td>\n",
       "      <td>67.786370</td>\n",
       "      <td>0.0</td>\n",
       "      <td>0.0</td>\n",
       "      <td>398.000929</td>\n",
       "      <td>0.0</td>\n",
       "      <td>0.470204</td>\n",
       "      <td>0.495321</td>\n",
       "    </tr>\n",
       "    <tr>\n",
       "      <th>min</th>\n",
       "      <td>0.000000</td>\n",
       "      <td>-2223.600000</td>\n",
       "      <td>-10809.194757</td>\n",
       "      <td>-2223.600000</td>\n",
       "      <td>-10794.030906</td>\n",
       "      <td>5.268320e-08</td>\n",
       "      <td>0.001621</td>\n",
       "      <td>0.000000</td>\n",
       "      <td>0.000000</td>\n",
       "      <td>4.000000</td>\n",
       "      <td>0.0</td>\n",
       "      <td>2.619712e-09</td>\n",
       "      <td>-1000.000000</td>\n",
       "      <td>0.0</td>\n",
       "      <td>0.0</td>\n",
       "      <td>-1000.000000</td>\n",
       "      <td>0.0</td>\n",
       "      <td>0.000000</td>\n",
       "      <td>0.000000</td>\n",
       "    </tr>\n",
       "    <tr>\n",
       "      <th>25%</th>\n",
       "      <td>0.000000</td>\n",
       "      <td>-921.782943</td>\n",
       "      <td>-1510.668203</td>\n",
       "      <td>-922.214339</td>\n",
       "      <td>-1509.931984</td>\n",
       "      <td>6.200404e-01</td>\n",
       "      <td>1.299609</td>\n",
       "      <td>0.000000</td>\n",
       "      <td>0.000000</td>\n",
       "      <td>22.827946</td>\n",
       "      <td>0.0</td>\n",
       "      <td>1.136672e-03</td>\n",
       "      <td>0.000000</td>\n",
       "      <td>0.0</td>\n",
       "      <td>0.0</td>\n",
       "      <td>0.000000</td>\n",
       "      <td>0.0</td>\n",
       "      <td>0.000000</td>\n",
       "      <td>0.000000</td>\n",
       "    </tr>\n",
       "    <tr>\n",
       "      <th>50%</th>\n",
       "      <td>0.000000</td>\n",
       "      <td>145.990332</td>\n",
       "      <td>456.458104</td>\n",
       "      <td>147.748306</td>\n",
       "      <td>454.811033</td>\n",
       "      <td>2.014698e+00</td>\n",
       "      <td>2.249285</td>\n",
       "      <td>0.000000</td>\n",
       "      <td>0.000000</td>\n",
       "      <td>40.304366</td>\n",
       "      <td>0.0</td>\n",
       "      <td>6.092083e-03</td>\n",
       "      <td>0.000000</td>\n",
       "      <td>0.0</td>\n",
       "      <td>0.0</td>\n",
       "      <td>0.000000</td>\n",
       "      <td>0.0</td>\n",
       "      <td>1.000000</td>\n",
       "      <td>1.000000</td>\n",
       "    </tr>\n",
       "    <tr>\n",
       "      <th>75%</th>\n",
       "      <td>0.000000</td>\n",
       "      <td>3546.900000</td>\n",
       "      <td>994.276147</td>\n",
       "      <td>3546.900000</td>\n",
       "      <td>993.915597</td>\n",
       "      <td>4.287078e+00</td>\n",
       "      <td>3.019123</td>\n",
       "      <td>1.000000</td>\n",
       "      <td>1.000000</td>\n",
       "      <td>68.550586</td>\n",
       "      <td>0.0</td>\n",
       "      <td>2.862586e-02</td>\n",
       "      <td>0.000000</td>\n",
       "      <td>0.0</td>\n",
       "      <td>0.0</td>\n",
       "      <td>0.000000</td>\n",
       "      <td>0.0</td>\n",
       "      <td>1.000000</td>\n",
       "      <td>1.000000</td>\n",
       "    </tr>\n",
       "    <tr>\n",
       "      <th>max</th>\n",
       "      <td>1.000000</td>\n",
       "      <td>11206.300000</td>\n",
       "      <td>2936.600000</td>\n",
       "      <td>11206.300000</td>\n",
       "      <td>2936.600000</td>\n",
       "      <td>6.268430e+00</td>\n",
       "      <td>6.265950</td>\n",
       "      <td>1.000000</td>\n",
       "      <td>1.000000</td>\n",
       "      <td>199.959803</td>\n",
       "      <td>0.0</td>\n",
       "      <td>9.097619e-01</td>\n",
       "      <td>0.000000</td>\n",
       "      <td>0.0</td>\n",
       "      <td>0.0</td>\n",
       "      <td>0.000000</td>\n",
       "      <td>0.0</td>\n",
       "      <td>1.000000</td>\n",
       "      <td>1.000000</td>\n",
       "    </tr>\n",
       "  </tbody>\n",
       "</table>\n",
       "</div>"
      ],
      "text/plain": [
       "                   Y             x1             y1             x2  \\\n",
       "count  135824.000000  135824.000000  135824.000000  135824.000000   \n",
       "mean        0.050234    2238.391176   -1625.320838    2238.090260   \n",
       "std         0.218429    4297.113297    4186.021636    4297.330842   \n",
       "min         0.000000   -2223.600000  -10809.194757   -2223.600000   \n",
       "25%         0.000000    -921.782943   -1510.668203    -922.214339   \n",
       "50%         0.000000     145.990332     456.458104     147.748306   \n",
       "75%         0.000000    3546.900000     994.276147    3546.900000   \n",
       "max         1.000000   11206.300000    2936.600000   11206.300000   \n",
       "\n",
       "                  y2  signed_angle_sum      angle_sum  angle_sum_equals  \\\n",
       "count  135824.000000      1.358240e+05  135824.000000     135824.000000   \n",
       "mean    -1625.122274      2.485204e+00       2.226474          0.431743   \n",
       "std      4185.880085      1.934537e+00       1.178969          0.495321   \n",
       "min    -10794.030906      5.268320e-08       0.001621          0.000000   \n",
       "25%     -1509.931984      6.200404e-01       1.299609          0.000000   \n",
       "50%       454.811033      2.014698e+00       2.249285          0.000000   \n",
       "75%       993.915597      4.287078e+00       3.019123          1.000000   \n",
       "max      2936.600000      6.268430e+00       6.265950          1.000000   \n",
       "\n",
       "       signed_angle_more_than_PI       distance  distance_closest_line  \\\n",
       "count              135824.000000  135824.000000               135824.0   \n",
       "mean                    0.431743      51.131191                    0.0   \n",
       "std                     0.495321      38.375287                    0.0   \n",
       "min                     0.000000       4.000000                    0.0   \n",
       "25%                     0.000000      22.827946                    0.0   \n",
       "50%                     0.000000      40.304366                    0.0   \n",
       "75%                     1.000000      68.550586                    0.0   \n",
       "max                     1.000000     199.959803                    0.0   \n",
       "\n",
       "              score  cons_score_max  cons_score_mean  cons_curMax  \\\n",
       "count  1.358240e+05   135824.000000         135824.0     135824.0   \n",
       "mean   5.004195e-02       -4.616268              0.0          0.0   \n",
       "std    1.320160e-01       67.786370              0.0          0.0   \n",
       "min    2.619712e-09    -1000.000000              0.0          0.0   \n",
       "25%    1.136672e-03        0.000000              0.0          0.0   \n",
       "50%    6.092083e-03        0.000000              0.0          0.0   \n",
       "75%    2.862586e-02        0.000000              0.0          0.0   \n",
       "max    9.097619e-01        0.000000              0.0          0.0   \n",
       "\n",
       "       inters_score_max  inters_score_mean         strong        GroupID  \n",
       "count     135824.000000           135824.0  135824.000000  135824.000000  \n",
       "mean        -197.350984                0.0       0.670029       0.568257  \n",
       "std          398.000929                0.0       0.470204       0.495321  \n",
       "min        -1000.000000                0.0       0.000000       0.000000  \n",
       "25%            0.000000                0.0       0.000000       0.000000  \n",
       "50%            0.000000                0.0       1.000000       1.000000  \n",
       "75%            0.000000                0.0       1.000000       1.000000  \n",
       "max            0.000000                0.0       1.000000       1.000000  "
      ]
     },
     "execution_count": 4,
     "metadata": {},
     "output_type": "execute_result"
    }
   ],
   "source": [
    "datafiles_number = 3\n",
    "cons = pandas.DataFrame()\n",
    "for i in range(datafiles_number):\n",
    "    new_cons = pandas.read_csv(\"../data/connections_dataset_\"+str(i)+\".csv\")\n",
    "    cons = cons.append( new_cons, ignore_index=True )\n",
    "\n",
    "print( cons.columns.values )\n",
    "#hist(cons['angle1'],bins=50)\n",
    "before = len(cons)\n",
    "cons = cons.drop_duplicates()\n",
    "after = len(cons)\n",
    "print(before-after,'duplicates dropped')\n",
    "cons.describe()"
   ]
  },
  {
   "cell_type": "code",
   "execution_count": 9,
   "metadata": {
    "collapsed": false
   },
   "outputs": [
    {
     "data": {
      "text/plain": [
       "<seaborn.axisgrid.PairGrid at 0x261246c4ef0>"
      ]
     },
     "execution_count": 9,
     "metadata": {},
     "output_type": "execute_result"
    }
   ],
   "source": [
    "#Scatter plot all data\n",
    "# scatter_matrix(cons, alpha=0.2, figsize=(6, 6), diagonal='kde')\n",
    "# show()\n",
    "\n",
    "sns.pairplot(cons, hue=\"Y\", vars=['signed_angle_sum','angle_sum','distance','distance_closest_line'])"
   ]
  },
  {
   "cell_type": "code",
   "execution_count": 6,
   "metadata": {
    "collapsed": false
   },
   "outputs": [
    {
     "name": "stdout",
     "output_type": "stream",
     "text": [
      "Base conditions:\n",
      "ID      Count   True/All\n",
      "0       77183   7.6998820983895415\n",
      "1       0       nan     \n",
      "2       0       nan     \n",
      "3       58641   1.5006565372350404\n",
      "4       0       nan     \n",
      "5       0       nan     \n",
      "6       760     25.263157894736842\n",
      "7       0       nan     \n",
      "8       0       nan     \n",
      "\n",
      "Whole dataset falls into 3 groups\n",
      "Group_id     size  True/All Condition id's\n",
      "       0    58641   1.5007% [3]\n",
      "       1    76423   7.5252% [0]\n",
      "       2      760  25.2632% [0 6]\n",
      "\n",
      " Total meanfull groups: 3\n"
     ]
    }
   ],
   "source": [
    "#Extract meanfull groups\n",
    "\n",
    "conditions = []\n",
    "\n",
    "#Split cases, when \n",
    "conditions.append( (cons['angle_sum_equals'] == 0) & (cons['signed_angle_more_than_PI'] == 0) ) #0\n",
    "conditions.append( (cons['angle_sum_equals'] == 0) & (cons['signed_angle_more_than_PI'] == 1) ) #1\n",
    "conditions.append( (cons['angle_sum_equals'] == 1) & (cons['signed_angle_more_than_PI'] == 0) ) #2\n",
    "conditions.append( (cons['angle_sum_equals'] == 1) & (cons['signed_angle_more_than_PI'] == 1) ) #3\n",
    "\n",
    "#Separate strong and weak lines\n",
    "#conditions.append( ( cons['strong'] == 1 ) ) #4\n",
    "#conditions.append( ( cons['strong'] == 0 ) ) #5\n",
    "\n",
    "#Filter out mid extreme-values\n",
    "conditions.append( ( abs( cons['signed_angle_sum'] - math.pi ) < 0.001 ) ) #4\n",
    "\n",
    "#Filter out low extreme-values\n",
    "conditions.append( abs( cons['angle_sum'] ) < 0.001 ) #5\n",
    "conditions.append( abs( cons['signed_angle_sum'] < 0.01 ) ) #6\n",
    "\n",
    "#Filter out high extreme-values\n",
    "conditions.append( ( cons['angle_sum'] > (math.pi*2)-0.01) ) #7\n",
    "conditions.append( ( cons['signed_angle_sum'] > (math.pi*2)-0.01)  ) #8\n",
    "\n",
    "#Print group info\n",
    "\n",
    "print('Base conditions:')\n",
    "print('{:<8}{:<8}{:<8}'.format('ID','Count','True/All'))\n",
    "for i, condition in enumerate(conditions):\n",
    "    match = condition\n",
    "    percent = cons['Y'].ix[match].sum()/(match.sum())*100\n",
    "    print('{:<8}{:<8}{:<8}'.format(i,condition.sum(),percent))\n",
    "    \n",
    "total = len(conditions[0])\n",
    "\n",
    "conditions_match = []\n",
    "\n",
    "conditions = np.array(conditions).T\n",
    "\n",
    "def unique_rows(a):\n",
    "    b = np.ascontiguousarray(a).view(np.dtype((np.void, a.dtype.itemsize * a.shape[1])))\n",
    "    _, idx = np.unique(b, return_index=True)\n",
    "    return idx\n",
    "\n",
    "unique_conditions = conditions[unique_rows(conditions)]\n",
    "\n",
    "def matchConditionGroup(condition_group,conditions):\n",
    "    return (conditions == condition_group).all(axis=1)\n",
    "\n",
    "\n",
    "true_groups = []\n",
    "false_groups = []\n",
    "meanfull_conditions = []\n",
    "\n",
    "print('\\nWhole dataset falls into {} groups'.format(len(unique_conditions)))\n",
    "\n",
    "print('{:>8} {:>8} {:>9} {:>9}'.format('Group_id','size','True/All','Condition id\\'s'))\n",
    "\n",
    "g_id = 0\n",
    "for i,condition in enumerate(unique_conditions):\n",
    "    match = matchConditionGroup(condition,conditions)\n",
    "    percent = cons['Y'].ix[match].sum()/(match.sum())*100\n",
    "    \n",
    "    #if percent > 0.001:\n",
    "    meanfull_conditions.append(condition)\n",
    "    ids = np.where(condition)[0]\n",
    "    print('{:>8} {:>8} {:>8.4f}% '.format(g_id,match.sum(),percent,ids),end='')\n",
    "    print(ids)\n",
    "    g_id += 1\n",
    "    #elif percent > 0.5:\n",
    "        #true_groups.append(condition)\n",
    "    #else:\n",
    "        #false_groups.append(condition)\n",
    "print('\\n Total meanfull groups:',len(meanfull_conditions))\n",
    "meanfull_conditions = np.array(meanfull_conditions)\n",
    "\n",
    "# form groups\n",
    "groups = []\n",
    "\n",
    "for condition in meanfull_conditions:\n",
    "    match = matchConditionGroup(condition,conditions)\n",
    "    groups.append(cons.ix[match])"
   ]
  },
  {
   "cell_type": "code",
   "execution_count": null,
   "metadata": {
    "collapsed": true
   },
   "outputs": [],
   "source": [
    "#Manually name_groups\n",
    "\n"
   ]
  },
  {
   "cell_type": "code",
   "execution_count": 10,
   "metadata": {
    "collapsed": false
   },
   "outputs": [
    {
     "name": "stdout",
     "output_type": "stream",
     "text": [
      "58641\n",
      "880\n"
     ]
    },
    {
     "data": {
      "text/plain": [
       "<seaborn.axisgrid.PairGrid at 0x2612f616fd0>"
      ]
     },
     "execution_count": 10,
     "metadata": {},
     "output_type": "execute_result"
    }
   ],
   "source": [
    "g = groups[0]\n",
    "\n",
    "print(len(g))\n",
    "print(g['Y'].sum())\n",
    "sns.pairplot(g, hue=\"Y\", vars=['signed_angle_sum','angle_sum','distance','distance_closest_line'])"
   ]
  },
  {
   "cell_type": "code",
   "execution_count": 501,
   "metadata": {
    "collapsed": false
   },
   "outputs": [
    {
     "data": {
      "text/plain": [
       "4.743390357698289"
      ]
     },
     "execution_count": 501,
     "metadata": {},
     "output_type": "execute_result"
    }
   ],
   "source": [
    "cons['Y'].sum()/len(cons)*100"
   ]
  },
  {
   "cell_type": "code",
   "execution_count": 7,
   "metadata": {
    "collapsed": false
   },
   "outputs": [
    {
     "data": {
      "text/plain": [
       "[<matplotlib.lines.Line2D at 0x1fd03b6e710>]"
      ]
     },
     "execution_count": 7,
     "metadata": {},
     "output_type": "execute_result"
    }
   ],
   "source": [
    "plot( *np.array([[0.0, 6.49365234375],[0.01, 7.911751314484358],[0.02, 8.46074893031668],[0.03, 8.661321038991751],[0.04, 8.841076767823335],[0.05, 9.020832496654917],[0.060000000000000005, 9.200588225486499],[0.07, 9.380343954318082],[0.08, 9.532112720576091],[0.09, 9.640920221459899],[0.09999999999999999, 9.749291650675575],[0.10999999999999999, 9.85766307989125],[0.11999999999999998, 9.966034509106924],[0.12999999999999998, 10.074405938322599],[0.13999999999999999, 10.182777367538273],[0.15, 10.29114879675395],[0.16, 10.399520225969622],[0.17, 10.50789842899093],[0.18000000000000002, 10.616300763342092],[0.19000000000000003, 10.72470446743784],[0.20000000000000004, 10.833108171533587],[0.21000000000000005, 10.941511875629335],[0.22000000000000006, 11.04991557972508],[0.23000000000000007, 11.15831928382083],[0.24000000000000007, 11.266722987916577],[0.25000000000000006, 11.375126692012323],[0.26000000000000006, 11.48784653793859],[0.2700000000000001, 11.659360049137014],[0.2800000000000001, 11.838613878335316],[0.2900000000000001, 12.017867707533616],[0.3000000000000001, 12.197121536731919],[0.3100000000000001, 12.376375365930219],[0.3200000000000001, 12.692567016634225],[0.3300000000000001, 13.2336721777448],[0.34000000000000014, 408.29909244112577],[0.35000000000000014, 612.0957517724576],[0.36000000000000015, 612.7208188206004],[0.37000000000000016, 613.2627997334923],[0.38000000000000017, 613.7719677482778],[0.3900000000000002, 614.2750686959772],[0.4000000000000002, 614.7761336527743],[0.4100000000000002, 615.2794871309707],[0.4200000000000002, 615.7835834920618],[0.4300000000000002, 616.290237523866],[0.4400000000000002, 616.7976930986247],[0.45000000000000023, 617.3079366500452],[0.46000000000000024, 617.8191032412706],[0.47000000000000025, 618.3332321080939],[0.48000000000000026, 618.8484421391827],[0.49000000000000027, 619.3668023592027],[0.5000000000000002, 619.8863980561309],[0.5100000000000002, 620.4093486123775],[0.5200000000000002, 620.9336651034414],[0.5300000000000002, 621.4615476519594],[0.5400000000000003, 621.9908715743702],[0.5500000000000003, 622.523965171828],[0.5600000000000003, 623.0587479823901],[0.5700000000000003, 623.5969940304639],[0.5800000000000003, 624.1406299938687],[0.5900000000000003, 624.6907122755581],[0.6000000000000003, 625.3070475800007],[0.6100000000000003, 626.052364568021],[0.6200000000000003, 767.545941832097],[0.6300000000000003, 996.8086369012408],[0.6400000000000003, 997.3636706189104],[0.6500000000000004, 997.7273769147007],[0.6600000000000004, 998.0090485219137],[0.6700000000000004, 998.2907201291266],[0.6800000000000004, 998.5605872409743],[0.6900000000000004, 998.7736541714464],[0.7000000000000004, 998.9867211019186],[0.7100000000000004, 999.1997880323909],[0.7200000000000004, 999.412854962863],[0.7300000000000004, 999.6194230234096],[0.7400000000000004, 999.8190427527464],[0.7500000000000004, 1000.0186624820834],[0.7600000000000005, 1000.2182822114205],[0.7700000000000005, 1000.4179019407575],[0.7800000000000005, 1000.6165918220662],[0.7900000000000005, 1000.8142689252654],[0.8000000000000005, 1001.0119460284648],[0.8100000000000005, 1001.2096231316639],[0.8200000000000005, 1001.407300234863],[0.8300000000000005, 1001.604733407132],[0.8400000000000005, 1001.8018363397516],[0.8500000000000005, 1001.9989392723717],[0.8600000000000005, 1002.1960422049913],[0.8700000000000006, 1002.3931451376111],[0.8800000000000006, 1002.5925059036181],[0.8900000000000006, 1002.795945655833],[0.9000000000000006, 1002.9993854080479],[0.9100000000000006, 1003.2028251602629],[0.9200000000000006, 1003.4062649124779],[0.9300000000000006, 1003.6292587801763],[0.9400000000000006, 1003.8765768689628],[0.9500000000000006, 1004.1238949577491],[0.9600000000000006, 1004.3712130465356],[0.9700000000000006, 1004.687139348294],[0.9800000000000006, 1005.1033530511329],[0.9900000000000007, 1005.5239246780657],[1.0000000000000007, 1022.50048828125],]).T)"
   ]
  },
  {
   "cell_type": "code",
   "execution_count": 10,
   "metadata": {
    "collapsed": false
   },
   "outputs": [
    {
     "data": {
      "text/plain": [
       "[<matplotlib.lines.Line2D at 0x1fd03cbdb70>]"
      ]
     },
     "execution_count": 10,
     "metadata": {},
     "output_type": "execute_result"
    }
   ],
   "source": [
    "plot( *np.array([[0.0, 0.0],[0.01, 0.0],[0.02, 0.0],[0.03, 0.0],[0.04, 0.0],[0.05, 0.0],[0.060000000000000005, 0.0],[0.07, 0.0],[0.08, 0.0],[0.09, 0.0],[0.09999999999999999, 0.0],[0.10999999999999999, 0.0],[0.11999999999999998, 0.0],[0.12999999999999998, 0.0],[0.13999999999999999, 0.0],[0.15, 0.0],[0.16, 0.0],[0.17, 0.0],[0.18000000000000002, 0.0],[0.19000000000000003, 0.0],[0.20000000000000004, 0.0],[0.21000000000000005, 0.0],[0.22000000000000006, 0.0],[0.23000000000000007, 0.0],[0.24000000000000007, 0.0],[0.25000000000000006, 0.0],[0.26000000000000006, 0.0],[0.2700000000000001, 0.0],[0.2800000000000001, 0.0],[0.2900000000000001, 0.0],[0.3000000000000001, 0.0],[0.3100000000000001, 0.0],[0.3200000000000001, 0.0],[0.3300000000000001, 0.0],[0.34000000000000014, 0.0],[0.35000000000000014, 0.0],[0.36000000000000015, 0.0],[0.37000000000000016, 0.0],[0.38000000000000017, 0.0],[0.3900000000000002, 0.0],[0.4000000000000002, 0.0],[0.4100000000000002, 0.0],[0.4200000000000002, 0.0],[0.4300000000000002, 0.0],[0.4400000000000002, 0.0],[0.45000000000000023, 0.0],[0.46000000000000024, 0.0],[0.47000000000000025, 0.0],[0.48000000000000026, 0.0],[0.49000000000000027, 0.0],[0.5000000000000002, 0.0],[0.5100000000000002, 0.0],[0.5200000000000002, 0.0],[0.5300000000000002, 0.0],[0.5400000000000003, 0.0],[0.5500000000000003, 0.0],[0.5600000000000003, 0.0],[0.5700000000000003, 0.0],[0.5800000000000003, 0.0],[0.5900000000000003, 0.0],[0.6000000000000003, 0.0],[0.6100000000000003, 0.0],[0.6200000000000003, 0.0],[0.6300000000000003, 0.0],[0.6400000000000003, 0.0],[0.6500000000000004, 0.0],[0.6600000000000004, 0.0],[0.6700000000000004, 0.0],[0.6800000000000004, 0.0],[0.6900000000000004, 0.0],[0.7000000000000004, 0.0],[0.7100000000000004, 0.0],[0.7200000000000004, 0.0],[0.7300000000000004, 0.0],[0.7400000000000004, 0.0],[0.7500000000000004, 0.0],[0.7600000000000005, 0.0],[0.7700000000000005, 0.0],[0.7800000000000005, 0.0],[0.7900000000000005, 0.0],[0.8000000000000005, 0.0],[0.8100000000000005, 0.0],[0.8200000000000005, 0.0],[0.8300000000000005, 0.0],[0.8400000000000005, 0.0],[0.8500000000000005, 0.0],[0.8600000000000005, 0.0],[0.8700000000000006, 0.0],[0.8800000000000006, 0.0],[0.8900000000000006, 0.0],[0.9000000000000006, 0.0],[0.9100000000000006, 0.0],[0.9200000000000006, 0.0],[0.9300000000000006, 0.0],[0.9400000000000006, 0.0],[0.9500000000000006, 0.0],[0.9600000000000006, 0.0],[0.9700000000000006, 0.0],[0.9800000000000006, 0.0],[0.9900000000000007, 0.0],[1.0000000000000007, 0.0],]).T)\n"
   ]
  },
  {
   "cell_type": "code",
   "execution_count": 39,
   "metadata": {
    "collapsed": false
   },
   "outputs": [
    {
     "data": {
      "text/plain": [
       "[<matplotlib.lines.Line2D at 0x26147011f60>]"
      ]
     },
     "execution_count": 39,
     "metadata": {},
     "output_type": "execute_result"
    }
   ],
   "source": [
    "plot(arr)\n",
    "arr = np.ones(100)\n",
    "plot(arr)"
   ]
  },
  {
   "cell_type": "code",
   "execution_count": 42,
   "metadata": {
    "collapsed": false
   },
   "outputs": [
    {
     "data": {
      "text/plain": [
       "[<matplotlib.lines.Line2D at 0x2614ae518d0>]"
      ]
     },
     "execution_count": 42,
     "metadata": {},
     "output_type": "execute_result"
    }
   ],
   "source": [
    "arr = np.array(arr)\n",
    "plot(arr.cumsum())"
   ]
  },
  {
   "cell_type": "markdown",
   "metadata": {},
   "source": [
    "### Format data"
   ]
  },
  {
   "cell_type": "code",
   "execution_count": 33,
   "metadata": {
    "collapsed": false
   },
   "outputs": [
    {
     "data": {
      "text/plain": [
       "array(['Y', 'x1', 'y1', 'x2', 'y2', 'angle1', 'angle2', 'distance',\n",
       "       'score', 'cons_score_max', 'cons_score_mean', 'cons_curMax',\n",
       "       'inters_score_max', 'inters_score_mean'], dtype=object)"
      ]
     },
     "execution_count": 33,
     "metadata": {},
     "output_type": "execute_result"
    }
   ],
   "source": [
    "cons.columns.values"
   ]
  },
  {
   "cell_type": "code",
   "execution_count": 87,
   "metadata": {
    "collapsed": false
   },
   "outputs": [
    {
     "name": "stdout",
     "output_type": "stream",
     "text": [
      "9\n",
      "(6065, 9)\n",
      "(6065,)\n"
     ]
    }
   ],
   "source": [
    "# 1 angle1 0.141016591082\n",
    "# 2 angle2 0.140071976028\n",
    "# 3 distance -0.00104193567356\n",
    "# 4 DTS 0.000173396848109\n",
    "# 5 I_COUNT -0.00334494362288\n",
    "# 6 IsWithingEdge -0.0969711886275\n",
    "# 7 parallel_score 0.122432937273\n",
    "# 8 score 0.0859794673862\n",
    "\n",
    "#             features[cons_score_max] =  -1000;\n",
    "#             features[cons_score_mean] = 0;\n",
    "#             features[cons_curMax] = 0;\n",
    "#             features[inters_score_max] = -1000;\n",
    "#             features[inters_score_mean] = 0;\n",
    "            \n",
    "feature_names = ['angle1', 'angle2', 'distance', 'score', 'cons_score_max', 'cons_score_mean',\n",
    "       'cons_curMax', 'inters_score_max',\n",
    "       'inters_score_mean',]\n",
    "\n",
    "#feature_names = ['angle1', 'angle2', 'distance']\n",
    "\n",
    "X = np.array(cons[feature_names],dtype=float)\n",
    "Y = np.array(cons['Y'],dtype=float)\n",
    "\n",
    "print(len(feature_names))\n",
    "print(X.shape)\n",
    "print(Y.shape)"
   ]
  },
  {
   "cell_type": "code",
   "execution_count": 59,
   "metadata": {
    "collapsed": false
   },
   "outputs": [
    {
     "data": {
      "text/plain": [
       "array([[  6.23955986e-01,   8.96401724e-01,   3.62254593e+01, ...,\n",
       "          1.00000000e+00,  -1.00000000e+03,   0.00000000e+00],\n",
       "       [  6.30477759e-01,   4.54822462e-01,   9.77668382e+01, ...,\n",
       "          0.00000000e+00,   1.16284365e+00,   9.90169049e-01],\n",
       "       [  7.94227837e-01,   9.28247894e-01,   1.91501471e+02, ...,\n",
       "          0.00000000e+00,   1.19716101e+00,   1.05916637e+00],\n",
       "       ..., \n",
       "       [  4.71662721e-01,  -9.98582767e-02,   1.02089313e+02, ...,\n",
       "          0.00000000e+00,   1.34625584e+00,   6.83540050e-01],\n",
       "       [  7.08453513e-01,  -1.71435777e-01,   1.03778790e+02, ...,\n",
       "          0.00000000e+00,   1.12826982e+00,   4.91295216e-01],\n",
       "       [  1.00000000e+00,   1.00000000e+00,   1.29349554e+01, ...,\n",
       "          1.00000000e+00,  -1.00000000e+03,   0.00000000e+00]])"
      ]
     },
     "execution_count": 59,
     "metadata": {},
     "output_type": "execute_result"
    }
   ],
   "source": [
    "X"
   ]
  },
  {
   "cell_type": "markdown",
   "metadata": {},
   "source": [
    "### Generate Draft score"
   ]
  },
  {
   "cell_type": "code",
   "execution_count": 63,
   "metadata": {
    "collapsed": false
   },
   "outputs": [
    {
     "data": {
      "text/plain": [
       "array(['Y', 'x1', 'y1', 'x2', 'y2', 'signed_angle_sum', 'angle_sum',\n",
       "       'angle_sum_equals', 'signed_angle_more_than_PI', 'distance',\n",
       "       'score', 'cons_score_max', 'cons_score_mean', 'cons_curMax',\n",
       "       'inters_score_max', 'inters_score_mean'], dtype=object)"
      ]
     },
     "execution_count": 63,
     "metadata": {},
     "output_type": "execute_result"
    }
   ],
   "source": [
    "cons.columns.values"
   ]
  },
  {
   "cell_type": "code",
   "execution_count": 510,
   "metadata": {
    "collapsed": false
   },
   "outputs": [],
   "source": [
    "#linear_feature_names = ['signed_angle_sum', 'angle_sum', 'distance']\n",
    "\n",
    "def getLinearModel(X,Y,linear_feature_names):\n",
    "\n",
    "    es = []\n",
    "    coefs = []\n",
    "    scores = []\n",
    "\n",
    "    for train_ids, test_ids in sk.cross_validation.StratifiedKFold(Y,n_folds=5):\n",
    "\n",
    "\n",
    "        X_train = X[train_ids]\n",
    "        Y_train = Y[train_ids]\n",
    "        X_test = X[test_ids]\n",
    "        Y_test = Y[test_ids]\n",
    "        \n",
    "        clf = sk.linear_model.LogisticRegression()\n",
    "        clf.fit(X_train,Y_train)\n",
    "\n",
    "        #print( 'score: ',clf.score(X_test,Y_test) )\n",
    "\n",
    "        scores.append(clf.score(X_test,Y_test))\n",
    "        es.append( clf.intercept_[0] )\n",
    "        coefs.append(clf.coef_[0])\n",
    "\n",
    "        #print('e:',clf.intercept_[0])\n",
    "        #for name,weight in zip(linear_feature_names,clf.coef_[0]):\n",
    "            #print(name,': ',weight,sep='')\n",
    "\n",
    "    #     prop1 = clf.predict_proba([x])[0][0]\n",
    "    #     log_odds = -math.exp((x*clf.coef_).sum()+clf.intercept_[0])\n",
    "    #     odds = exp(log_odds)\n",
    "    #     prob = odds\n",
    "    #     deviation.append(prop1-prob)\n",
    "\n",
    "    es = np.array(es)\n",
    "    coefs = np.array(coefs)\n",
    "\n",
    "#     print('scores: ',scores)\n",
    "#     print('e:',es.mean())\n",
    "#     for name,weight in zip(linear_feature_names,coefs.mean(axis=0)):\n",
    "#         print(name,': ',weight,sep='')\n",
    "\n",
    "    clf = sk.linear_model.LogisticRegression()\n",
    "    clf.fit(X,Y)\n",
    "        \n",
    "    return clf,clf.score(X,Y),np.array(scores).min()\n",
    "\n"
   ]
  },
  {
   "cell_type": "code",
   "execution_count": 536,
   "metadata": {
    "collapsed": false
   },
   "outputs": [
    {
     "name": "stdout",
     "output_type": "stream",
     "text": [
      "LogisticRegression(C=1.0, class_weight=None, dual=False, fit_intercept=True,\n",
      "          intercept_scaling=1, max_iter=100, multi_class='ovr', n_jobs=1,\n",
      "          penalty='l2', random_state=None, solver='liblinear', tol=0.0001,\n",
      "          verbose=0, warm_start=False)\n",
      "0.986378535075 0.986329572593\n",
      "e: -1.21071517609\n",
      "angle_sum: -1.56471653345\n",
      "distance: -0.0247778080897\n"
     ]
    }
   ],
   "source": [
    "#Generate group 0 coefficients\n",
    "\n",
    "linear_feature_names = ['angle_sum', 'distance']\n",
    "X_linear = np.array( groups[0][linear_feature_names] )\n",
    "Y_linear = np.array( groups[0]['Y'] )\n",
    "clf,score,cv_score = getLinearModel(X_linear,Y_linear,linear_feature_names)\n",
    "\n",
    "print(clf)\n",
    "print(score,cv_score)\n",
    "\n",
    "print('e:',clf.intercept_[0])\n",
    "for name,weight in zip(linear_feature_names,clf.coef_[0]):\n",
    "    print(name,': ',weight,sep='')\n",
    "\n",
    "def predict_proba_group0(x):\n",
    "    return 1/(1+exp(-(clf.intercept_[0]+(x*clf.coef_[0]).sum())))\n",
    "\n",
    "p0s = []\n",
    "p1s = []\n",
    "means = []\n",
    "diffs = []\n",
    "for x in X_linear:\n",
    "    p0 = clf.predict_proba([x])[0][1]\n",
    "    p1 = predict_proba_group0(x)\n",
    "    p0s.append(p0)\n",
    "    p1s.append(p1)\n",
    "    diffs.append(p0-p1)\n",
    "    means.append((p0+p1)*0.5)\n",
    "    \n",
    "# plot(p0s,'r-')\n",
    "# plot(p1s,'b--')\n",
    "#print( clf.predict_proba([X_linear[0]])[0][1] )\n",
    "#print( clf.predict([X_linear[0]]) )\n"
   ]
  },
  {
   "cell_type": "code",
   "execution_count": 544,
   "metadata": {
    "collapsed": false
   },
   "outputs": [
    {
     "name": "stdout",
     "output_type": "stream",
     "text": [
      "LogisticRegression(C=1.0, class_weight=None, dual=False, fit_intercept=True,\n",
      "          intercept_scaling=1, max_iter=100, multi_class='ovr', n_jobs=1,\n",
      "          penalty='l2', random_state=None, solver='liblinear', tol=0.0001,\n",
      "          verbose=0, warm_start=False)\n",
      "0.942203263415 0.929468725465\n",
      "e: 2.56578216542\n",
      "angle_sum: -1.44898066454\n",
      "signed_angle_sum: -0.947030816533\n",
      "distance: -0.0648483976278\n"
     ]
    }
   ],
   "source": [
    "#Group 1 regression\n",
    "\n",
    "linear_feature_names = ['angle_sum','signed_angle_sum', 'distance']\n",
    "X_linear = np.array( groups[1][linear_feature_names] )\n",
    "Y_linear = np.array( groups[1]['Y'] )\n",
    "clf,score,cv_score = getLinearModel(X_linear,Y_linear,linear_feature_names)\n",
    "\n",
    "print(clf)\n",
    "print(score,cv_score)\n",
    "\n",
    "print('e:',clf.intercept_[0])\n",
    "for name,weight in zip(linear_feature_names,clf.coef_[0]):\n",
    "    print(name,': ',weight,sep='')\n",
    "\n",
    "def predict_proba_group0(x):\n",
    "    return 1/(1+exp(-(clf.intercept_[0]+(x*clf.coef_[0]).sum())))\n",
    "\n",
    "p0s = []\n",
    "p1s = []\n",
    "means = []\n",
    "diffs = []\n",
    "for x in X_linear:\n",
    "    p0 = clf.predict_proba([x])[0][1]\n",
    "    p1 = predict_proba_group0(x)\n",
    "    p0s.append(p0)\n",
    "    p1s.append(p1)\n",
    "    diffs.append(p0-p1)\n",
    "    means.append((p0+p1)*0.5)"
   ]
  },
  {
   "cell_type": "code",
   "execution_count": 542,
   "metadata": {
    "collapsed": false
   },
   "outputs": [
    {
     "name": "stdout",
     "output_type": "stream",
     "text": [
      "LogisticRegression(C=1.0, class_weight=None, dual=False, fit_intercept=True,\n",
      "          intercept_scaling=1, max_iter=100, multi_class='ovr', n_jobs=1,\n",
      "          penalty='l2', random_state=None, solver='liblinear', tol=0.0001,\n",
      "          verbose=0, warm_start=False)\n",
      "0.836842105263 0.754966887417\n",
      "e: 1.95433308346\n",
      "angle_sum: -1.39372625195\n",
      "distance: -0.0466163855841\n"
     ]
    }
   ],
   "source": [
    "#Group 2 regression\n",
    "\n",
    "linear_feature_names = ['angle_sum', 'distance']\n",
    "X_linear = np.array( groups[2][linear_feature_names] )\n",
    "Y_linear = np.array( groups[2]['Y'] )\n",
    "clf,score,cv_score = getLinearModel(X_linear,Y_linear,linear_feature_names)\n",
    "\n",
    "print(clf)\n",
    "print(score,cv_score)\n",
    "\n",
    "print('e:',clf.intercept_[0])\n",
    "for name,weight in zip(linear_feature_names,clf.coef_[0]):\n",
    "    print(name,': ',weight,sep='')\n",
    "\n",
    "def predict_proba_group0(x):\n",
    "    return 1/(1+exp(-(clf.intercept_[0]+(x*clf.coef_[0]).sum())))\n",
    "\n",
    "p0s = []\n",
    "p1s = []\n",
    "means = []\n",
    "diffs = []\n",
    "for x in X_linear:\n",
    "    p0 = clf.predict_proba([x])[0][1]\n",
    "    p1 = predict_proba_group0(x)\n",
    "    p0s.append(p0)\n",
    "    p1s.append(p1)\n",
    "    diffs.append(p0-p1)\n",
    "    means.append((p0+p1)*0.5)"
   ]
  },
  {
   "cell_type": "code",
   "execution_count": 547,
   "metadata": {
    "collapsed": true
   },
   "outputs": [],
   "source": [
    "#Calculate recall thresholds\n"
   ]
  },
  {
   "cell_type": "code",
   "execution_count": 396,
   "metadata": {
    "collapsed": false
   },
   "outputs": [
    {
     "name": "stderr",
     "output_type": "stream",
     "text": [
      "C:\\Users\\Artyom.Fomenko\\Anaconda3\\lib\\site-packages\\sklearn\\cross_validation.py:516: Warning: The least populated class in y has only 1 members, which is too few. The minimum number of labels for any class cannot be less than n_folds=5.\n",
      "  % (min_labels, self.n_folds)), Warning)\n"
     ]
    },
    {
     "ename": "ValueError",
     "evalue": "This solver needs samples of at least 2 classes in the data, but the data contains only one class: 0.0",
     "output_type": "error",
     "traceback": [
      "\u001b[1;31m---------------------------------------------------------------------------\u001b[0m",
      "\u001b[1;31mValueError\u001b[0m                                Traceback (most recent call last)",
      "\u001b[1;32m<ipython-input-396-d11f393ec617>\u001b[0m in \u001b[0;36m<module>\u001b[1;34m()\u001b[0m\n\u001b[0;32m      6\u001b[0m     \u001b[0mX\u001b[0m \u001b[1;33m=\u001b[0m \u001b[0mnp\u001b[0m\u001b[1;33m.\u001b[0m\u001b[0marray\u001b[0m\u001b[1;33m(\u001b[0m\u001b[0mg\u001b[0m\u001b[1;33m[\u001b[0m\u001b[0mlinear_feature_names\u001b[0m\u001b[1;33m]\u001b[0m\u001b[1;33m,\u001b[0m\u001b[0mdtype\u001b[0m\u001b[1;33m=\u001b[0m\u001b[0mfloat\u001b[0m\u001b[1;33m)\u001b[0m\u001b[1;33m\u001b[0m\u001b[0m\n\u001b[0;32m      7\u001b[0m     \u001b[0mY\u001b[0m \u001b[1;33m=\u001b[0m \u001b[0mnp\u001b[0m\u001b[1;33m.\u001b[0m\u001b[0marray\u001b[0m\u001b[1;33m(\u001b[0m\u001b[0mg\u001b[0m\u001b[1;33m[\u001b[0m\u001b[1;34m'Y'\u001b[0m\u001b[1;33m]\u001b[0m\u001b[1;33m,\u001b[0m\u001b[0mdtype\u001b[0m\u001b[1;33m=\u001b[0m\u001b[0mfloat\u001b[0m\u001b[1;33m)\u001b[0m\u001b[1;33m\u001b[0m\u001b[0m\n\u001b[1;32m----> 8\u001b[1;33m     \u001b[0mclf\u001b[0m\u001b[1;33m,\u001b[0m\u001b[0mscore\u001b[0m \u001b[1;33m=\u001b[0m \u001b[0mgetLinearModel\u001b[0m\u001b[1;33m(\u001b[0m\u001b[0mX\u001b[0m\u001b[1;33m,\u001b[0m\u001b[0mY\u001b[0m\u001b[1;33m)\u001b[0m\u001b[1;33m\u001b[0m\u001b[0m\n\u001b[0m\u001b[0;32m      9\u001b[0m     \u001b[0mcval_scores\u001b[0m\u001b[1;33m.\u001b[0m\u001b[0mappend\u001b[0m\u001b[1;33m(\u001b[0m\u001b[0mscore\u001b[0m\u001b[1;33m)\u001b[0m\u001b[1;33m\u001b[0m\u001b[0m\n\u001b[0;32m     10\u001b[0m \u001b[1;33m\u001b[0m\u001b[0m\n",
      "\u001b[1;32m<ipython-input-395-ac121efc0e4e>\u001b[0m in \u001b[0;36mgetLinearModel\u001b[1;34m(X, Y)\u001b[0m\n\u001b[0;32m     14\u001b[0m \u001b[1;33m\u001b[0m\u001b[0m\n\u001b[0;32m     15\u001b[0m         \u001b[0mclf\u001b[0m \u001b[1;33m=\u001b[0m \u001b[0msk\u001b[0m\u001b[1;33m.\u001b[0m\u001b[0mlinear_model\u001b[0m\u001b[1;33m.\u001b[0m\u001b[0mLogisticRegression\u001b[0m\u001b[1;33m(\u001b[0m\u001b[1;33m)\u001b[0m\u001b[1;33m\u001b[0m\u001b[0m\n\u001b[1;32m---> 16\u001b[1;33m         \u001b[0mclf\u001b[0m\u001b[1;33m.\u001b[0m\u001b[0mfit\u001b[0m\u001b[1;33m(\u001b[0m\u001b[0mX_train\u001b[0m\u001b[1;33m,\u001b[0m\u001b[0mY_train\u001b[0m\u001b[1;33m)\u001b[0m\u001b[1;33m\u001b[0m\u001b[0m\n\u001b[0m\u001b[0;32m     17\u001b[0m \u001b[1;33m\u001b[0m\u001b[0m\n\u001b[0;32m     18\u001b[0m         \u001b[1;31m#print( 'score: ',clf.score(X_test,Y_test) )\u001b[0m\u001b[1;33m\u001b[0m\u001b[1;33m\u001b[0m\u001b[0m\n",
      "\u001b[1;32mC:\\Users\\Artyom.Fomenko\\Anaconda3\\lib\\site-packages\\sklearn\\linear_model\\logistic.py\u001b[0m in \u001b[0;36mfit\u001b[1;34m(self, X, y, sample_weight)\u001b[0m\n\u001b[0;32m   1152\u001b[0m                 \u001b[0mX\u001b[0m\u001b[1;33m,\u001b[0m \u001b[0my\u001b[0m\u001b[1;33m,\u001b[0m \u001b[0mself\u001b[0m\u001b[1;33m.\u001b[0m\u001b[0mC\u001b[0m\u001b[1;33m,\u001b[0m \u001b[0mself\u001b[0m\u001b[1;33m.\u001b[0m\u001b[0mfit_intercept\u001b[0m\u001b[1;33m,\u001b[0m \u001b[0mself\u001b[0m\u001b[1;33m.\u001b[0m\u001b[0mintercept_scaling\u001b[0m\u001b[1;33m,\u001b[0m\u001b[1;33m\u001b[0m\u001b[0m\n\u001b[0;32m   1153\u001b[0m                 \u001b[0mself\u001b[0m\u001b[1;33m.\u001b[0m\u001b[0mclass_weight\u001b[0m\u001b[1;33m,\u001b[0m \u001b[0mself\u001b[0m\u001b[1;33m.\u001b[0m\u001b[0mpenalty\u001b[0m\u001b[1;33m,\u001b[0m \u001b[0mself\u001b[0m\u001b[1;33m.\u001b[0m\u001b[0mdual\u001b[0m\u001b[1;33m,\u001b[0m \u001b[0mself\u001b[0m\u001b[1;33m.\u001b[0m\u001b[0mverbose\u001b[0m\u001b[1;33m,\u001b[0m\u001b[1;33m\u001b[0m\u001b[0m\n\u001b[1;32m-> 1154\u001b[1;33m                 self.max_iter, self.tol, self.random_state)\n\u001b[0m\u001b[0;32m   1155\u001b[0m             \u001b[0mself\u001b[0m\u001b[1;33m.\u001b[0m\u001b[0mn_iter_\u001b[0m \u001b[1;33m=\u001b[0m \u001b[0mnp\u001b[0m\u001b[1;33m.\u001b[0m\u001b[0marray\u001b[0m\u001b[1;33m(\u001b[0m\u001b[1;33m[\u001b[0m\u001b[0mn_iter_\u001b[0m\u001b[1;33m]\u001b[0m\u001b[1;33m)\u001b[0m\u001b[1;33m\u001b[0m\u001b[0m\n\u001b[0;32m   1156\u001b[0m             \u001b[1;32mreturn\u001b[0m \u001b[0mself\u001b[0m\u001b[1;33m\u001b[0m\u001b[0m\n",
      "\u001b[1;32mC:\\Users\\Artyom.Fomenko\\Anaconda3\\lib\\site-packages\\sklearn\\svm\\base.py\u001b[0m in \u001b[0;36m_fit_liblinear\u001b[1;34m(X, y, C, fit_intercept, intercept_scaling, class_weight, penalty, dual, verbose, max_iter, tol, random_state, multi_class, loss, epsilon)\u001b[0m\n\u001b[0;32m    883\u001b[0m             raise ValueError(\"This solver needs samples of at least 2 classes\"\n\u001b[0;32m    884\u001b[0m                              \u001b[1;34m\" in the data, but the data contains only one\"\u001b[0m\u001b[1;33m\u001b[0m\u001b[0m\n\u001b[1;32m--> 885\u001b[1;33m                              \" class: %r\" % classes_[0])\n\u001b[0m\u001b[0;32m    886\u001b[0m \u001b[1;33m\u001b[0m\u001b[0m\n\u001b[0;32m    887\u001b[0m         \u001b[0mclass_weight_\u001b[0m \u001b[1;33m=\u001b[0m \u001b[0mcompute_class_weight\u001b[0m\u001b[1;33m(\u001b[0m\u001b[0mclass_weight\u001b[0m\u001b[1;33m,\u001b[0m \u001b[0mclasses_\u001b[0m\u001b[1;33m,\u001b[0m \u001b[0my\u001b[0m\u001b[1;33m)\u001b[0m\u001b[1;33m\u001b[0m\u001b[0m\n",
      "\u001b[1;31mValueError\u001b[0m: This solver needs samples of at least 2 classes in the data, but the data contains only one class: 0.0"
     ]
    }
   ],
   "source": [
    "# Calc Logistic regression for each group:\n",
    "cval_scores = []\n",
    "classifiers = []\n",
    "\n",
    "for g in groups:\n",
    "    X = np.array(g[linear_feature_names],dtype=float)\n",
    "    Y = np.array(g['Y'],dtype=float)\n",
    "    clf,score = getLinearModel(X,Y)\n",
    "    cval_scores.append(score)\n",
    "    \n",
    "print(cval_scores)\n",
    "    "
   ]
  },
  {
   "cell_type": "markdown",
   "metadata": {},
   "source": [
    "### Test goodness-of-fit"
   ]
  },
  {
   "cell_type": "code",
   "execution_count": 83,
   "metadata": {
    "collapsed": false
   },
   "outputs": [
    {
     "name": "stdout",
     "output_type": "stream",
     "text": [
      "f score: 0.832786885246\n",
      "precision: 0.846773759673\n",
      "recall: 0.799782733606\n",
      "roc : 0.883039493823\n",
      "roc : 0.883039493823\n"
     ]
    }
   ],
   "source": [
    "# fscores_min = []\n",
    "# precision_min = []\n",
    "# recall_min = []\n",
    "# roc_min = []\n",
    "\n",
    "# mistake_counts = np.zeros(len(Y))\n",
    "\n",
    "#clf = sk.tree.DecisionTreeClassifier(random_state=42,min_samples_leaf=3,max_depth=2,class_weight='balanced')\n",
    "clf = sk.ensemble.AdaBoostClassifier(random_state=42,n_estimators=100)\n",
    "#clf = sk.linear_model.LinearRegression()\n",
    "\n",
    "fscores_min, precision_min, recall_min, roc_min, mistake_counts = cvAdvanced(clf,X,Y,regression=False)\n",
    "\n",
    "#print(\"f score:\",fscores_min[-1])\n",
    "#print(\"precision:\",precision_min[-1])\n",
    "#print(\"recall:\",recall_min[-1])\n",
    "print(\"roc :\",roc_min[-1])"
   ]
  },
  {
   "cell_type": "code",
   "execution_count": 84,
   "metadata": {
    "collapsed": false
   },
   "outputs": [],
   "source": [
    "plot(fscores_min,'k')\n",
    "plot(precision_min,'r')\n",
    "plot(recall_min,'b')\n",
    "plot(roc_min,'y')\n",
    "grid(True)"
   ]
  },
  {
   "cell_type": "code",
   "execution_count": 17,
   "metadata": {
    "collapsed": false
   },
   "outputs": [
    {
     "ename": "AttributeError",
     "evalue": "'RandomForestClassifier' object has no attribute 'coef_'",
     "output_type": "error",
     "traceback": [
      "\u001b[1;31m---------------------------------------------------------------------------\u001b[0m",
      "\u001b[1;31mAttributeError\u001b[0m                            Traceback (most recent call last)",
      "\u001b[1;32m<ipython-input-17-34ec0ee4c6db>\u001b[0m in \u001b[0;36m<module>\u001b[1;34m()\u001b[0m\n\u001b[1;32m----> 1\u001b[1;33m \u001b[1;32mfor\u001b[0m \u001b[0mname\u001b[0m\u001b[1;33m,\u001b[0m \u001b[0mval\u001b[0m \u001b[1;32min\u001b[0m \u001b[0mzip\u001b[0m\u001b[1;33m(\u001b[0m \u001b[0mfeature_names\u001b[0m\u001b[1;33m,\u001b[0m\u001b[0mclf\u001b[0m\u001b[1;33m.\u001b[0m\u001b[0mcoef_\u001b[0m\u001b[1;33m)\u001b[0m\u001b[1;33m:\u001b[0m\u001b[1;33m\u001b[0m\u001b[0m\n\u001b[0m\u001b[0;32m      2\u001b[0m     \u001b[0mprint\u001b[0m\u001b[1;33m(\u001b[0m\u001b[0mname\u001b[0m\u001b[1;33m,\u001b[0m\u001b[0mval\u001b[0m\u001b[1;33m)\u001b[0m\u001b[1;33m\u001b[0m\u001b[0m\n",
      "\u001b[1;31mAttributeError\u001b[0m: 'RandomForestClassifier' object has no attribute 'coef_'"
     ]
    }
   ],
   "source": [
    "for name, val in zip( feature_names,clf.coef_):\n",
    "    print(name,val)"
   ]
  },
  {
   "cell_type": "code",
   "execution_count": 260,
   "metadata": {
    "collapsed": false
   },
   "outputs": [
    {
     "data": {
      "text/plain": [
       "[('angle2', 0.0),\n",
       " ('cons_score_mean', 0.0),\n",
       " ('cons_curMax', 0.0),\n",
       " ('angle1', 0.011237259532150091),\n",
       " ('score', 0.077520830298469443),\n",
       " ('inters_score_mean', 0.084101313942202896),\n",
       " ('cons_score_max', 0.12213004879433871),\n",
       " ('inters_score_max', 0.27400836521308325),\n",
       " ('distance', 0.43100218221975561)]"
      ]
     },
     "execution_count": 260,
     "metadata": {},
     "output_type": "execute_result"
    }
   ],
   "source": [
    "feature_values = []\n",
    "for name, val in zip( feature_names,clf.feature_importances_):\n",
    "    feature_values.append( (name,val) )\n",
    "\n",
    "feature_values.sort(key=lambda x: x[1])\n",
    "\n",
    "feature_values"
   ]
  },
  {
   "cell_type": "code",
   "execution_count": 569,
   "metadata": {
    "collapsed": true
   },
   "outputs": [],
   "source": [
    "plot(roc_min)\n",
    "grid(True)"
   ]
  },
  {
   "cell_type": "code",
   "execution_count": 743,
   "metadata": {
    "collapsed": true
   },
   "outputs": [],
   "source": []
  },
  {
   "cell_type": "code",
   "execution_count": 54,
   "metadata": {
    "collapsed": false
   },
   "outputs": [
    {
     "name": "stdout",
     "output_type": "stream",
     "text": [
      "fail_threshold:  50.0\n",
      "ok_threshold:  50.0\n",
      "pred count:  0.0\n"
     ]
    }
   ],
   "source": [
    "fail_threshold = np.percentile(mistake_counts,95)\n",
    "ok_threshold = np.percentile(mistake_counts,20)\n",
    "\n",
    "print(\"fail_threshold: \",fail_threshold)\n",
    "print(\"ok_threshold: \",ok_threshold)\n",
    "\n",
    "path_to_map = \"C:/Users/Artyom.Fomenko/maps3d/connections_dataset_0_map.json\"\n",
    "\n",
    "with open(path_to_map,'r') as f:\n",
    "    MAP = json.load(f)\n",
    "\n",
    "for isoline in MAP:\n",
    "    line = np.array( [i for i in zip(isoline['lineString']['xs'],isoline['lineString']['ys'])] )\n",
    "    plot(*line.T)\n",
    "    \n",
    "Y_pred = clf_final.predict(cons[feature_names])\n",
    "print(\"pred count: \",Y_pred.sum())\n",
    "\n",
    "for x1,y1,x2,y2,mistakes,answer,pred in zip(cons['x1'],cons['y1'],cons['x2'],cons['y2'],mistake_counts,Y,Y_pred):\n",
    "    \n",
    "    \n",
    "    if answer == 1:\n",
    "        plot([x1,x2],[y1,y2],'g',linewidth=2)\n",
    "        \n",
    "    if pred == 1:\n",
    "        plot([x1,x2],[y1,y2],'r--',linewidth=3.0)\n",
    "        \n",
    "        \n",
    "\n",
    "show()"
   ]
  },
  {
   "cell_type": "markdown",
   "metadata": {},
   "source": [
    "### Final fit and it's score"
   ]
  },
  {
   "cell_type": "code",
   "execution_count": 23,
   "metadata": {
    "collapsed": false
   },
   "outputs": [
    {
     "data": {
      "text/plain": [
       "RandomForestClassifier(bootstrap=True, class_weight=None, criterion='gini',\n",
       "            max_depth=4, max_features=4, max_leaf_nodes=14,\n",
       "            min_samples_leaf=250, min_samples_split=2,\n",
       "            min_weight_fraction_leaf=0.0, n_estimators=1000, n_jobs=1,\n",
       "            oob_score=False, random_state=42, verbose=0, warm_start=False)"
      ]
     },
     "execution_count": 23,
     "metadata": {},
     "output_type": "execute_result"
    }
   ],
   "source": [
    "clf_final = sk.ensemble.RandomForestClassifier(random_state=42,n_estimators=1000,\\\n",
    "                                         min_samples_leaf=250,max_features=4,max_depth=4,max_leaf_nodes=14)\n",
    "clf_final.fit(X,Y)"
   ]
  },
  {
   "cell_type": "code",
   "execution_count": 24,
   "metadata": {
    "collapsed": false
   },
   "outputs": [
    {
     "name": "stderr",
     "output_type": "stream",
     "text": [
      "C:\\Users\\Artyom.Fomenko\\Anaconda3\\lib\\site-packages\\sklearn\\metrics\\classification.py:1074: UndefinedMetricWarning: F-score is ill-defined and being set to 0.0 in labels with no predicted samples.\n",
      "  'precision', 'predicted', average, warn_for)\n",
      "C:\\Users\\Artyom.Fomenko\\Anaconda3\\lib\\site-packages\\sklearn\\metrics\\classification.py:1074: UndefinedMetricWarning: F-score is ill-defined and being set to 0.0 in labels with no predicted samples.\n",
      "  'precision', 'predicted', average, warn_for)\n",
      "C:\\Users\\Artyom.Fomenko\\Anaconda3\\lib\\site-packages\\sklearn\\metrics\\classification.py:1074: UndefinedMetricWarning: F-score is ill-defined and being set to 0.0 in labels with no predicted samples.\n",
      "  'precision', 'predicted', average, warn_for)\n",
      "C:\\Users\\Artyom.Fomenko\\Anaconda3\\lib\\site-packages\\sklearn\\metrics\\classification.py:1074: UndefinedMetricWarning: F-score is ill-defined and being set to 0.0 in labels with no predicted samples.\n",
      "  'precision', 'predicted', average, warn_for)\n",
      "C:\\Users\\Artyom.Fomenko\\Anaconda3\\lib\\site-packages\\sklearn\\metrics\\classification.py:1074: UndefinedMetricWarning: F-score is ill-defined and being set to 0.0 in labels with no predicted samples.\n",
      "  'precision', 'predicted', average, warn_for)\n"
     ]
    }
   ],
   "source": [
    "scores = sk.cross_validation.cross_val_score(clf_final, X, Y, cv=5, scoring='f1_weighted')"
   ]
  },
  {
   "cell_type": "code",
   "execution_count": 25,
   "metadata": {
    "collapsed": false
   },
   "outputs": [
    {
     "data": {
      "text/plain": [
       "array([ 0.81573021,  0.81478415,  0.81478415,  0.81478415,  0.82140249])"
      ]
     },
     "execution_count": 25,
     "metadata": {},
     "output_type": "execute_result"
    }
   ],
   "source": [
    "scores"
   ]
  },
  {
   "cell_type": "code",
   "execution_count": 26,
   "metadata": {
    "collapsed": false
   },
   "outputs": [
    {
     "data": {
      "text/plain": [
       "array([ 0.81573021,  0.81478415,  0.81478415,  0.81478415,  0.82140249])"
      ]
     },
     "execution_count": 26,
     "metadata": {},
     "output_type": "execute_result"
    }
   ],
   "source": [
    "scores"
   ]
  },
  {
   "cell_type": "code",
   "execution_count": 27,
   "metadata": {
    "collapsed": false
   },
   "outputs": [
    {
     "data": {
      "text/plain": [
       "0.87473684210526315"
      ]
     },
     "execution_count": 27,
     "metadata": {},
     "output_type": "execute_result"
    }
   ],
   "source": [
    "clf_final.score(X,Y)"
   ]
  },
  {
   "cell_type": "code",
   "execution_count": 47,
   "metadata": {
    "collapsed": false
   },
   "outputs": [
    {
     "data": {
      "text/plain": [
       "array([[ 0.95442359],\n",
       "       [ 0.95442359],\n",
       "       [ 0.95442359],\n",
       "       [ 0.95442359],\n",
       "       [ 0.43561208],\n",
       "       [ 0.95442359],\n",
       "       [ 0.95442359],\n",
       "       [ 0.84339623],\n",
       "       [ 0.95442359],\n",
       "       [ 0.95442359]])"
      ]
     },
     "execution_count": 47,
     "metadata": {},
     "output_type": "execute_result"
    }
   ],
   "source": [
    "tree = clf_final.estimators_[0]\n",
    "#tree.predict(np.array(X[0:1],dtype=np.float32))\n",
    "tree.tree_.predict(np.array(X[0:10],dtype=np.float32))\n",
    "# sk.tree.export.export_graphviz(tree,\n",
    "#                                feature_names=feature_names,\n",
    "#                                class_names=[\"False\",\"True\"],\n",
    "#                                label='all',\n",
    "#                                out_file='C:/Users/Artyom.Fomenko/Desktop/tree.dot')"
   ]
  },
  {
   "cell_type": "code",
   "execution_count": 158,
   "metadata": {
    "collapsed": false
   },
   "outputs": [
    {
     "data": {
      "text/plain": [
       "array([ 0.92999098,  0.92999098,  0.9438858 ,  0.94391358,  0.60597564,\n",
       "        0.9438858 ,  0.9438858 ,  0.72059584,  0.9438858 ,  0.92999098])"
      ]
     },
     "execution_count": 158,
     "metadata": {},
     "output_type": "execute_result"
    }
   ],
   "source": [
    "clf_final.predict(X[0:10])"
   ]
  },
  {
   "cell_type": "code",
   "execution_count": 157,
   "metadata": {
    "collapsed": false
   },
   "outputs": [
    {
     "name": "stdout",
     "output_type": "stream",
     "text": [
      "System.out.println( clf.predict(new double[]{1.0, 1.0, 0.51452525198, 1.96774775394, -1000.0, 0.0, 0.0, -1000.0, 0.0}));\n",
      "System.out.println( clf.predict(new double[]{1.0, 1.0, 0.432822733482, 1.96792913353, -1000.0, 0.0, 0.0, -1000.0, 0.0}));\n",
      "System.out.println( clf.predict(new double[]{0.999999999991, 0.99999999999, 0.251325986557, 1.96833205629, 0.565146632863, 0.565146632863, 1.0, -1000.0, 0.0}));\n",
      "System.out.println( clf.predict(new double[]{1.0, 0.999999999998, 0.341717755557, 1.96813138658, 0.926953898949, 0.926953898949, 1.0, -1000.0, 0.0}));\n",
      "System.out.println( clf.predict(new double[]{1.0, -1.02946293777, 0.25, 0.182407614765, 0.804550757751, 0.804550757751, 0.0, -1000.0, 0.0}));\n",
      "System.out.println( clf.predict(new double[]{1.0, 1.0, 0.398084848481, 1.96800625164, 0.814962413376, 0.814962413376, 1.0, -1000.0, 0.0}));\n",
      "System.out.println( clf.predict(new double[]{0.999999999998, 0.999999999998, 0.26170108356, 1.96830902359, 0.563662760697, 0.563662760697, 1.0, -1000.0, 0.0}));\n",
      "System.out.println( clf.predict(new double[]{1.0, 0.00409562234995, 0.25, 1.09193914767, -1000.0, 0.0, 0.0, -1000.0, 0.0}));\n",
      "System.out.println( clf.predict(new double[]{1.0, 1.0, 0.457140270797, 1.9678751486, 0.191413552447, 0.191413552447, 1.0, -1000.0, 0.0}));\n",
      "System.out.println( clf.predict(new double[]{1.0, 1.0, 0.599237925582, 1.96755969181, -1000.0, 0.0, 0.0, -1000.0, 0.0}));\n"
     ]
    }
   ],
   "source": [
    "for x in X[0:10]:\n",
    "    print(\"System.out.println( clf.predict(new double[]{\",end='')\n",
    "    print(*x,sep=\", \",end='')\n",
    "    print(\"}));\")"
   ]
  },
  {
   "cell_type": "code",
   "execution_count": 106,
   "metadata": {
    "collapsed": false
   },
   "outputs": [],
   "source": [
    "def predictOne(tree,sample):\n",
    "    left = tree.children_left\n",
    "    right = tree.children_right\n",
    "    threshold = tree.threshold\n",
    "    feature = tree.feature\n",
    "    value = tree.value\n",
    "\n",
    "    node_id = 0\n",
    "\n",
    "    while (feature[node_id] != -2):\n",
    "        if (sample[feature[node_id]] > threshold[node_id]):\n",
    "            node_id = right[node_id]\n",
    "        else:\n",
    "            node_id = left[node_id]\n",
    "\n",
    "    return tree.value[node_id][0][0]\n",
    "\n",
    "def predict(tree, samples):\n",
    "    ret = []\n",
    "    for sample in samples:\n",
    "        ret.append(predictOne(tree,sample))\n",
    "    return np.array(ret)\n",
    "\n",
    "#predict(tree.tree_,X)\n",
    "#tree.predict(X)"
   ]
  },
  {
   "cell_type": "code",
   "execution_count": 138,
   "metadata": {
    "collapsed": false
   },
   "outputs": [],
   "source": [
    "def writeArrayToFile(f, arr):\n",
    "    \n",
    "    for i,val in enumerate(arr):\n",
    "        f.write( \"{}\".format(val) )\n",
    "        if (i != len(arr)-1):\n",
    "            f.write(\" \")\n",
    "        else:\n",
    "            f.write(\"\\n\")\n",
    "\n",
    "def writeTreeToFile(f, tree):\n",
    "\n",
    "    f.write(\"{}\\n\".format(tree.node_count))\n",
    "    writeArrayToFile(f,tree.children_left)\n",
    "    writeArrayToFile(f,tree.children_right)\n",
    "    writeArrayToFile(f,tree.threshold)\n",
    "    writeArrayToFile(f,tree.feature)\n",
    "    writeArrayToFile(f,tree.value[:,:,0].T[0])\n",
    "    \n",
    "def writeForestToFile(f,forest):\n",
    "    \n",
    "    f.write(\"{}\\n\".format(forest[0].n_features_))\n",
    "    f.write(\"{}\\n\".format(len(forest)))\n",
    "    for tree in forest:\n",
    "        writeTreeToFile(f,tree.tree_)\n",
    "        \n",
    "with open(\"C:/Users/Artyom.Fomenko/Desktop/forest.txt\",'w') as f:\n",
    "    writeForestToFile(f,clf_final.estimators_)"
   ]
  },
  {
   "cell_type": "code",
   "execution_count": 144,
   "metadata": {
    "collapsed": false
   },
   "outputs": [
    {
     "data": {
      "text/plain": [
       "False"
      ]
     },
     "execution_count": 144,
     "metadata": {},
     "output_type": "execute_result"
    }
   ],
   "source": []
  },
  {
   "cell_type": "code",
   "execution_count": 1,
   "metadata": {
    "collapsed": false
   },
   "outputs": [
    {
     "ename": "NameError",
     "evalue": "name 'np' is not defined",
     "output_type": "error",
     "traceback": [
      "\u001b[1;31m---------------------------------------------------------------------------\u001b[0m",
      "\u001b[1;31mNameError\u001b[0m                                 Traceback (most recent call last)",
      "\u001b[1;32m<ipython-input-1-e2a1d6c0f759>\u001b[0m in \u001b[0;36m<module>\u001b[1;34m()\u001b[0m\n\u001b[1;32m----> 1\u001b[1;33m \u001b[0mnp\u001b[0m\u001b[1;33m.\u001b[0m\u001b[0marray\u001b[0m\u001b[1;33m(\u001b[0m \u001b[0mX\u001b[0m\u001b[1;33m[\u001b[0m\u001b[1;36m0\u001b[0m\u001b[1;33m]\u001b[0m\u001b[1;33m,\u001b[0m\u001b[0mdtype\u001b[0m\u001b[1;33m=\u001b[0m\u001b[0mnp\u001b[0m\u001b[1;33m.\u001b[0m\u001b[0mfloat32\u001b[0m\u001b[1;33m)\u001b[0m\u001b[1;33m\u001b[0m\u001b[0m\n\u001b[0m",
      "\u001b[1;31mNameError\u001b[0m: name 'np' is not defined"
     ]
    }
   ],
   "source": [
    "np.array( X[0],dtype=np.float32)"
   ]
  },
  {
   "cell_type": "code",
   "execution_count": 177,
   "metadata": {
    "collapsed": false
   },
   "outputs": [
    {
     "name": "stdout",
     "output_type": "stream",
     "text": [
      "0.224018251621\n",
      "['angle1', 'angle2', 'distance', 'score', 'cons_score_max', 'cons_score_mean', 'cons_curMax', 'inters_score_max', 'inters_score_mean']\n",
      "[  5.48845582e-02   4.51298321e-02  -6.76192408e-03   8.79667531e-02\n",
      "  -3.21897595e-04  -1.28781349e-01   4.42307948e-01  -1.33020572e-04\n",
      "  -9.23697360e-02]\n",
      "[0.01, 0.014723618090452261, 0.01944723618090452, 0.024170854271356783, 0.028894472361809045, 0.033618090452261308, 0.038341708542713564, 0.043065326633165826, 0.047788944723618089, 0.052512562814070352, 0.057236180904522614, 0.06195979899497487, 0.066683417085427132, 0.071407035175879388, 0.076130653266331644, 0.080854271356783913, 0.085577889447236169, 0.090301507537688425, 0.095025125628140694, 0.09974874371859295, 0.10447236180904522, 0.10919597989949748, 0.11391959798994973, 0.118643216080402, 0.12336683417085426, 0.12809045226130653, 0.1328140703517588, 0.13753768844221106, 0.14226130653266331, 0.14698492462311558, 0.15170854271356785, 0.15643216080402009, 0.16115577889447236, 0.16587939698492463, 0.17060301507537687, 0.17532663316582914, 0.18005025125628141, 0.18477386934673365, 0.18949748743718592, 0.19422110552763819, 0.19894472361809046, 0.2036683417085427, 0.20839195979899497, 0.21311557788944724, 0.21783919597989948, 0.22256281407035175, 0.22728643216080402, 0.23201005025125626, 0.23673366834170853, 0.2414572864321608, 0.24618090452261304, 0.25090452261306528, 0.25562814070351758, 0.26035175879396982, 0.26507537688442212, 0.26979899497487436, 0.2745226130653266, 0.2792462311557789, 0.28396984924623114, 0.28869346733668338, 0.29341708542713568, 0.29814070351758792, 0.30286432160804017, 0.30758793969849246, 0.3123115577889447, 0.31703517587939695, 0.32175879396984924, 0.32648241206030149, 0.33120603015075373, 0.33592964824120602, 0.34065326633165827, 0.34537688442211051, 0.35010050251256281, 0.35482412060301505, 0.35954773869346729, 0.36427135678391959, 0.36899497487437183, 0.37371859296482407, 0.37844221105527637, 0.38316582914572861, 0.38788944723618091, 0.39261306532663315, 0.39733668341708539, 0.40206030150753769, 0.40678391959798993, 0.41150753768844217, 0.41623115577889447, 0.42095477386934671, 0.42567839195979895, 0.43040201005025125, 0.43512562814070349, 0.43984924623115573, 0.44457286432160803, 0.44929648241206027, 0.45402010050251251, 0.45874371859296481, 0.46346733668341705, 0.46819095477386929, 0.47291457286432159, 0.47763819095477383, 0.48236180904522608, 0.48708542713567837, 0.49180904522613061, 0.49653266331658286, 0.50125628140703515, 0.50597989949748734, 0.51070351758793964, 0.51542713567839193, 0.52015075376884423, 0.52487437185929642, 0.52959798994974872, 0.53432160804020101, 0.5390452261306532, 0.5437688442211055, 0.54849246231155779, 0.55321608040200998, 0.55793969849246228, 0.56266331658291457, 0.56738693467336676, 0.57211055276381906, 0.57683417085427136, 0.58155778894472354, 0.58628140703517584, 0.59100502512562814, 0.59572864321608032, 0.60045226130653262, 0.60517587939698492, 0.6098994974874371, 0.6146231155778894, 0.6193467336683417, 0.62407035175879388, 0.62879396984924618, 0.63351758793969848, 0.63824120603015067, 0.64296482412060296, 0.64768844221105526, 0.65241206030150745, 0.65713567839195974, 0.66185929648241204, 0.66658291457286423, 0.67130653266331652, 0.67603015075376882, 0.68075376884422101, 0.68547738693467331, 0.6902010050251256, 0.69492462311557779, 0.69964824120603009, 0.70437185929648238, 0.70909547738693457, 0.71381909547738687, 0.71854271356783916, 0.72326633165829135, 0.72798994974874365, 0.73271356783919595, 0.73743718592964813, 0.74216080402010043, 0.74688442211055273, 0.75160804020100491, 0.75633165829145721, 0.76105527638190951, 0.7657788944723618, 0.77050251256281399, 0.77522613065326629, 0.77994974874371858, 0.78467336683417077, 0.78939698492462307, 0.79412060301507537, 0.79884422110552755, 0.80356783919597985, 0.80829145728643215, 0.81301507537688433, 0.81773869346733663, 0.82246231155778893, 0.82718592964824111, 0.83190954773869341, 0.83663316582914571, 0.84135678391959789, 0.84608040201005019, 0.85080402010050249, 0.85552763819095468, 0.86025125628140697, 0.86497487437185927, 0.86969849246231146, 0.87442211055276375, 0.87914572864321605, 0.88386934673366824, 0.88859296482412053, 0.89331658291457283, 0.89804020100502502, 0.90276381909547732, 0.90748743718592961, 0.9122110552763818, 0.9169346733668341, 0.92165829145728639, 0.92638190954773858, 0.93110552763819088, 0.93582914572864317, 0.94055276381909536, 0.94527638190954766, 0.94999999999999996]\n"
     ]
    }
   ],
   "source": [
    "clf = sk.linear_model.LinearRegression()\n",
    "clf.fit(X,Y)\n",
    "\n",
    "print(clf.intercept_)\n",
    "print(feature_names)\n",
    "print(clf.coef_)\n",
    "\n",
    "Y_pred = clf_final.predict(X)\n",
    "true_positive = []\n",
    "true_negative = []\n",
    "f1 = []\n",
    "#false_negative = []\n",
    "values_x = []\n",
    "\n",
    "total_positives = (Y==1).sum()\n",
    "total_negatives = (Y==0).sum()\n",
    "\n",
    "precision = []\n",
    "recall = []\n",
    "\n",
    "for threshold in np.linspace(0.01,0.95,200):\n",
    "\n",
    "    values_x.append(threshold)\n",
    "    \n",
    "    Y_bin = Y_pred > threshold\n",
    "    \n",
    "        \n",
    "    false_positive_count = ( np.logical_and( (Y_bin == 1), (Y == 0) ) ) .sum()\n",
    "    false_negative_count = ( np.logical_and( (Y_bin == 0), (Y == 1) ) ) .sum()\n",
    "    true_positive_count = ( np.logical_and( (Y_bin == 1), (Y == 1) ) ) .sum()\n",
    "    true_negative_count = ( np.logical_and( (Y_bin == 0), (Y == 0) ) ) .sum()\n",
    "    \n",
    "    #false_negative.append(false_negative_count/total_positives)\n",
    "    true_positive.append(true_positive_count/total_positives)\n",
    "    true_negative.append(true_negative_count/total_negatives)\n",
    "    \n",
    "    precision_score = true_positive_count/(true_positive_count+false_positive_count)\n",
    "    recall_score = true_positive_count/(true_positive_count+false_negative_count)\n",
    "    f1_score = precision_score*recall_score/(precision_score+recall_score)*2\n",
    "    precision.append( precision_score )\n",
    "    recall.append( recall_score )\n",
    "    f1.append( f1_score )\n",
    "    \n",
    "    \n",
    "plot(values_x,f1,'ko-')\n",
    "plot(values_x,precision,'ro-')\n",
    "plot(values_x,recall,'bo-')\n",
    "show()\n",
    "print(values_x)\n",
    "# scores = clf.predict(X)\n",
    "# fpr, tpr, thresholds = metrics.roc_curve(Y, scores)\n",
    "# len(thresholds)"
   ]
  },
  {
   "cell_type": "code",
   "execution_count": null,
   "metadata": {
    "collapsed": true
   },
   "outputs": [],
   "source": []
  },
  {
   "cell_type": "code",
   "execution_count": 36,
   "metadata": {
    "collapsed": false
   },
   "outputs": [],
   "source": [
    "clf = sk.tree.DecisionTreeClassifier(random_state=42,min_samples_leaf=5,max_depth=2)\n",
    "#clf = sk.ensemble.RandomForestClassifier(random_state=42,n_estimators=10)\n",
    "#clf = sk.linear_model.RidgeClassifier(random_state=42)\n",
    "clf.fit(X,Y)\n",
    "sk.tree.export.export_graphviz(clf,\n",
    "                               feature_names=feature_names,\n",
    "                               class_names=[\"False\",\"True\"],\n",
    "                               label='all',\n",
    "                               out_file='C:/Users/Artyom.Fomenko/Desktop/tree.dot')"
   ]
  },
  {
   "cell_type": "markdown",
   "metadata": {},
   "source": [
    "# Nearby relationships"
   ]
  },
  {
   "cell_type": "code",
   "execution_count": 100,
   "metadata": {
    "collapsed": false
   },
   "outputs": [
    {
     "name": "stderr",
     "output_type": "stream",
     "text": [
      "C:\\Users\\Artyom.Fomenko\\Anaconda3\\lib\\site-packages\\sklearn\\cross_validation.py:516: Warning: The least populated class in y has only 4 members, which is too few. The minimum number of labels for any class cannot be less than n_folds=5.\n",
      "  % (min_labels, self.n_folds)), Warning)\n"
     ]
    }
   ],
   "source": [
    "\n",
    "fscores_min = []\n",
    "precision_min = []\n",
    "recall_min = []\n",
    "\n",
    "for i in log_progress( range(250) ):\n",
    "\n",
    "    ids = np.arange(len(Y_nonan))\n",
    "    np.random.shuffle(ids)\n",
    "    \n",
    "    size = (i*4)+50\n",
    "    Y_base = Y_nonan[ids[:size]]\n",
    "    X_base = X_nonan[ids[:size]]\n",
    "    \n",
    "    fold = sk.cross_validation.StratifiedKFold(Y_base,n_folds=5,shuffle=True,random_state=42)\n",
    "    fscores = []\n",
    "    precisions = []\n",
    "    recalls = []\n",
    "    for train_ids, test_ids in fold:\n",
    "        X_train = X_base[train_ids]\n",
    "        Y_train = Y_base[train_ids]\n",
    "        X_test = X_base[test_ids]\n",
    "        Y_test = Y_base[test_ids]\n",
    "        \n",
    "\n",
    "        #clf = sk.ensemble.RandomForestClassifier(random_state=42,n_estimators=20)\n",
    "        clf = sk.linear_model.RidgeClassifier(class_weight='balanced')\n",
    "        clf.fit(X_train,Y_train)\n",
    "\n",
    "        Y_pred = clf.predict(X_test)\n",
    "        \n",
    "        fscore = sk.metrics.f1_score(Y_test,Y_pred)\n",
    "        precision = sk.metrics.precision_score(Y_test,Y_pred)\n",
    "        recall = sk.metrics.recall_score(Y_test,Y_pred)\n",
    "        \n",
    "        fscores.append(fscore)\n",
    "        precisions.append(precision)\n",
    "        recalls.append(recall)\n",
    "        \n",
    "    fscores_min.append( min(fscores) )\n",
    "    precision_min.append( min(precisions) )\n",
    "    recall_min.append( min(recalls) )\n",
    "    \n",
    "fscores_min = np.array(fscores_min)\n",
    "fscores_min = np.mean(rolling_window(fscores_min, 5), -1)\n",
    "\n",
    "precision_min = np.array(precision_min)\n",
    "precision_min = np.mean(rolling_window(precision_min, 5), -1)\n",
    "\n",
    "recall_min = np.array(recall_min)\n",
    "recall_min = np.mean(rolling_window(recall_min, 5), -1)"
   ]
  },
  {
   "cell_type": "code",
   "execution_count": 103,
   "metadata": {
    "collapsed": false
   },
   "outputs": [
    {
     "name": "stdout",
     "output_type": "stream",
     "text": [
      "fscore:  0.836567485985\n",
      "precision:  0.940476190476\n",
      "recall:  0.752229546336\n"
     ]
    },
    {
     "data": {
      "text/plain": [
       "array([[-0.00121034, -0.00508861,  0.40264552,  0.03940161,  0.03502284,\n",
       "        -0.02276605]])"
      ]
     },
     "execution_count": 103,
     "metadata": {},
     "output_type": "execute_result"
    }
   ],
   "source": [
    "fold = sk.cross_validation.StratifiedKFold(Y_nonan,n_folds=5,shuffle=True,random_state=42)\n",
    "fscores = []\n",
    "precisions = []\n",
    "recalls = []\n",
    "coefs = []\n",
    "for train_ids, test_ids in fold:\n",
    "    X_train = X_nonan[train_ids]\n",
    "    Y_train = Y_nonan[train_ids]\n",
    "    X_test = X_nonan[test_ids]\n",
    "    Y_test = Y_nonan[test_ids]\n",
    "\n",
    "\n",
    "    #clf = sk.ensemble.RandomForestClassifier(random_state=42,n_estimators=20)\n",
    "    clf = sk.linear_model.RidgeClassifier(class_weight='balanced')\n",
    "    clf.fit(X_train,Y_train)\n",
    "    \n",
    "    coefs.append(clf.coef_)\n",
    "\n",
    "    Y_pred = clf.predict(X_test)\n",
    "\n",
    "    fscores.append(sk.metrics.f1_score(Y_test,Y_pred))\n",
    "    precisions.append(sk.metrics.precision_score(Y_test,Y_pred))\n",
    "    recalls.append(sk.metrics.recall_score(Y_test,Y_pred))\n",
    "\n",
    "print(\"fscore: \",min(fscores))\n",
    "print(\"precision: \",min(precisions))\n",
    "print(\"recall: \",min(recalls))\n",
    "np.array(coefs).mean(axis=0)"
   ]
  },
  {
   "cell_type": "code",
   "execution_count": 106,
   "metadata": {
    "collapsed": false
   },
   "outputs": [],
   "source": [
    "plot(fscores_min,'k')\n",
    "plot(precision_min,'r')\n",
    "plot(recall_min,'b')\n",
    "grid(True)"
   ]
  },
  {
   "cell_type": "code",
   "execution_count": 289,
   "metadata": {
    "collapsed": false
   },
   "outputs": [
    {
     "data": {
      "text/plain": [
       "RandomForestClassifier(bootstrap=True, class_weight=None, criterion='gini',\n",
       "            max_depth=None, max_features='auto', max_leaf_nodes=None,\n",
       "            min_samples_leaf=1, min_samples_split=2,\n",
       "            min_weight_fraction_leaf=0.0, n_estimators=10, n_jobs=1,\n",
       "            oob_score=False, random_state=42, verbose=0, warm_start=False)"
      ]
     },
     "execution_count": 289,
     "metadata": {},
     "output_type": "execute_result"
    }
   ],
   "source": [
    "clf = sk.ensemble.RandomForestClassifier(random_state=42,n_estimators=10)\n",
    "clf.fit(X_nonan,Y_nonan)"
   ]
  },
  {
   "cell_type": "code",
   "execution_count": 193,
   "metadata": {
    "collapsed": true
   },
   "outputs": [],
   "source": [
    "y_pred = clf.predict(X_nonan)"
   ]
  },
  {
   "cell_type": "code",
   "execution_count": 194,
   "metadata": {
    "collapsed": false
   },
   "outputs": [
    {
     "name": "stderr",
     "output_type": "stream",
     "text": [
      "C:\\Users\\Artyom.Fomenko\\Anaconda3\\lib\\site-packages\\sklearn\\metrics\\ranking.py:538: UndefinedMetricWarning: No positive samples in y_true, true positive value should be meaningless\n",
      "  UndefinedMetricWarning)\n"
     ]
    }
   ],
   "source": [
    "y = Y_nonan\n",
    "scores = y_pred\n",
    "fpr, tpr, thresholds = metrics.roc_curve(y, scores, pos_label=2)"
   ]
  },
  {
   "cell_type": "code",
   "execution_count": 204,
   "metadata": {
    "collapsed": false
   },
   "outputs": [
    {
     "data": {
      "text/plain": [
       "1.0"
      ]
     },
     "execution_count": 204,
     "metadata": {},
     "output_type": "execute_result"
    }
   ],
   "source": [
    "sk.metrics.precision_score(Y_nonan,y_pred)"
   ]
  },
  {
   "cell_type": "code",
   "execution_count": 205,
   "metadata": {
    "collapsed": false
   },
   "outputs": [
    {
     "data": {
      "text/plain": [
       "0.99955752212389382"
      ]
     },
     "execution_count": 205,
     "metadata": {},
     "output_type": "execute_result"
    }
   ],
   "source": [
    "sk.metrics.recall_score(Y_nonan,y_pred)"
   ]
  },
  {
   "cell_type": "code",
   "execution_count": null,
   "metadata": {
    "collapsed": true
   },
   "outputs": [],
   "source": []
  }
 ],
 "metadata": {
  "anaconda-cloud": {},
  "kernelspec": {
   "display_name": "Python [Root]",
   "language": "python",
   "name": "Python [Root]"
  },
  "language_info": {
   "codemirror_mode": {
    "name": "ipython",
    "version": 3
   },
   "file_extension": ".py",
   "mimetype": "text/x-python",
   "name": "python",
   "nbconvert_exporter": "python",
   "pygments_lexer": "ipython3",
   "version": "3.5.1"
  }
 },
 "nbformat": 4,
 "nbformat_minor": 0
}
