{
 "cells": [
  {
   "cell_type": "code",
   "execution_count": 1,
   "metadata": {
    "collapsed": false
   },
   "outputs": [
    {
     "name": "stdout",
     "output_type": "stream",
     "text": [
      "Using matplotlib backend: Qt4Agg\n",
      "Populating the interactive namespace from numpy and matplotlib\n"
     ]
    }
   ],
   "source": [
    "%pylab"
   ]
  },
  {
   "cell_type": "code",
   "execution_count": 2,
   "metadata": {
    "collapsed": false
   },
   "outputs": [
    {
     "name": "stderr",
     "output_type": "stream",
     "text": [
      "C:\\Users\\Artyom.Fomenko\\Anaconda3\\lib\\site-packages\\sklearn\\lda.py:4: DeprecationWarning: lda.LDA has been moved to discriminant_analysis.LinearDiscriminantAnalysis in 0.17 and will be removed in 0.19\n",
      "  \"in 0.17 and will be removed in 0.19\", DeprecationWarning)\n",
      "C:\\Users\\Artyom.Fomenko\\Anaconda3\\lib\\site-packages\\sklearn\\qda.py:4: DeprecationWarning: qda.QDA has been moved to discriminant_analysis.QuadraticDiscriminantAnalysis in 0.17 and will be removed in 0.19.\n",
      "  \"in 0.17 and will be removed in 0.19.\", DeprecationWarning)\n"
     ]
    }
   ],
   "source": [
    "import json\n",
    "import pandas\n",
    "import sklearn as sk\n",
    "from sklearn import *\n",
    "from pandas.tools.plotting import *\n",
    "import pydot\n",
    "import io"
   ]
  },
  {
   "cell_type": "markdown",
   "metadata": {},
   "source": [
    "### Helper functions"
   ]
  },
  {
   "cell_type": "code",
   "execution_count": 3,
   "metadata": {
    "collapsed": true
   },
   "outputs": [],
   "source": [
    "def rolling_window(a, window):\n",
    "    shape = a.shape[:-1] + (a.shape[-1] - window + 1, window)\n",
    "    strides = a.strides + (a.strides[-1],)\n",
    "    return np.lib.stride_tricks.as_strided(a, shape=shape, strides=strides)\n",
    "\n",
    "def rules(clf, features, labels, node_index=0):\n",
    "    \"\"\"Structure of rules in a fit decision tree classifier\n",
    "\n",
    "    Parameters\n",
    "    ----------\n",
    "    clf : DecisionTreeClassifier\n",
    "        A tree that has already been fit.\n",
    "\n",
    "    features, labels : lists of str\n",
    "        The names of the features and labels, respectively.\n",
    "\n",
    "    \"\"\"\n",
    "    node = {}\n",
    "    if clf.tree_.children_left[node_index] == -1:  # indicates leaf\n",
    "        count_labels = zip(clf.tree_.value[node_index, 0], labels)\n",
    "        node['name'] = ', '.join(('{} of {}'.format(int(count), label)\n",
    "                                  for count, label in count_labels))\n",
    "    else:\n",
    "        feature = features[clf.tree_.feature[node_index]]\n",
    "        threshold = clf.tree_.threshold[node_index]\n",
    "        node['name'] = '{} > {}'.format(feature, threshold)\n",
    "        left_index = clf.tree_.children_left[node_index]\n",
    "        right_index = clf.tree_.children_right[node_index]\n",
    "        node['children'] = [rules(clf, features, labels, right_index),\n",
    "                            rules(clf, features, labels, left_index)]\n",
    "    return node\n",
    "\n",
    "def log_progress(sequence, every=None, size=None):\n",
    "    from ipywidgets import IntProgress, HTML, VBox\n",
    "    from IPython.display import display\n",
    "\n",
    "    is_iterator = False\n",
    "    if size is None:\n",
    "        try:\n",
    "            size = len(sequence)\n",
    "        except TypeError:\n",
    "            is_iterator = True\n",
    "    if size is not None:\n",
    "        if every is None:\n",
    "            if size <= 200:\n",
    "                every = 1\n",
    "            else:\n",
    "                every = size / 200     # every 0.5%\n",
    "    else:\n",
    "        assert every is not None, 'sequence is iterator, set every'\n",
    "\n",
    "    if is_iterator:\n",
    "        progress = IntProgress(min=0, max=1, value=1)\n",
    "        progress.bar_style = 'info'\n",
    "    else:\n",
    "        progress = IntProgress(min=0, max=size, value=0)\n",
    "    label = HTML()\n",
    "    box = VBox(children=[label, progress])\n",
    "    display(box)\n",
    "\n",
    "    index = 0\n",
    "    try:\n",
    "        for index, record in enumerate(sequence, 1):\n",
    "            if index == 1 or index % every == 0:\n",
    "                if is_iterator:\n",
    "                    label.value = '{index} / ?'.format(index=index)\n",
    "                else:\n",
    "                    progress.value = index\n",
    "                    label.value = u'{index} / {size}'.format(\n",
    "                        index=index,\n",
    "                        size=size\n",
    "                    )\n",
    "            yield record\n",
    "    except:\n",
    "        progress.bar_style = 'danger'\n",
    "        raise\n",
    "    else:\n",
    "        progress.bar_style = 'success'\n",
    "        progress.value = index\n",
    "        label.value = str(index or '?')\n",
    "        \n",
    "def cvAdvanced(clf,X,Y,**kwargs):\n",
    "    fscores_min = []\n",
    "    precision_min = []\n",
    "    recall_min = []\n",
    "    roc_min = []\n",
    "    \n",
    "    classification = not kwargs.get(\"regression\")\n",
    "\n",
    "    mistake_counts = np.zeros(len(Y))\n",
    "\n",
    "    for size in log_progress( np.linspace(2000,len(Y),50) ):\n",
    "        size = int(size)\n",
    "        ids = np.arange(len(Y))\n",
    "        np.random.shuffle(ids)\n",
    "        ids = ids[:size]\n",
    "        Y_base = Y[ids]\n",
    "        X_base = X[ids]\n",
    "\n",
    "        fold = sk.cross_validation.StratifiedKFold(Y_base,n_folds=3,shuffle=True,random_state=42)\n",
    "        fscores = []\n",
    "        precisions = []\n",
    "        recalls = []\n",
    "        rocs = []\n",
    "        for train_ids, test_ids in fold:\n",
    "            X_train = X_base[train_ids]\n",
    "            Y_train = Y_base[train_ids]\n",
    "            X_test = X_base[test_ids]\n",
    "            Y_test = Y_base[test_ids]\n",
    "\n",
    "            clf.fit(X_train,Y_train)\n",
    "\n",
    "            Y_pred = clf.predict(X_test)\n",
    "\n",
    "            if (classification):\n",
    "                fscore = sk.metrics.f1_score(Y_test,Y_pred)\n",
    "                precision = sk.metrics.precision_score(Y_test,Y_pred)\n",
    "                recall = sk.metrics.recall_score(Y_test,Y_pred)\n",
    "            roc_auc = sk.metrics.roc_auc_score(Y_test,Y_pred) #clf.score(X_test,Y_test)\n",
    "\n",
    "            mistake_counts[ ids[ test_ids[Y_test != Y_pred] ] ] += 1 \n",
    "            if (classification):\n",
    "                fscores.append(fscore)\n",
    "                precisions.append(precision)\n",
    "                recalls.append(recall)\n",
    "            rocs.append(roc_auc)\n",
    "\n",
    "        if (classification):\n",
    "            fscores_min.append( min(fscores) )\n",
    "            precision_min.append( min(precisions) )\n",
    "            recall_min.append( min(recalls) )\n",
    "        roc_min.append(min(rocs))\n",
    "\n",
    "    if (classification):\n",
    "        fscores_min = np.array(fscores_min)\n",
    "        fscores_min = np.mean(rolling_window(fscores_min, 2), -1)\n",
    "\n",
    "        precision_min = np.array(precision_min)\n",
    "        precision_min = np.mean(rolling_window(precision_min, 2), -1)\n",
    "\n",
    "        recall_min = np.array(recall_min)\n",
    "        recall_min = np.mean(rolling_window(recall_min, 2), -1)\n",
    "\n",
    "    roc_min = np.array(roc_min)\n",
    "    roc_min = np.mean(rolling_window(roc_min,2),-1)\n",
    "\n",
    "    if (classification):\n",
    "        print(\"f score:\",fscores[-1])\n",
    "        print(\"precision:\",precision_min[-1])\n",
    "        print(\"recall:\",recall_min[-1])\n",
    "        print(\"roc :\",roc_min[-1])\n",
    "        return fscores_min, precision_min, recall_min, roc_min, mistake_counts\n",
    "    else:\n",
    "        print(\"score: \",roc_min[-1])\n",
    "        return None, None, None, roc_min, mistake_counts"
   ]
  },
  {
   "cell_type": "markdown",
   "metadata": {},
   "source": [
    "# Connections"
   ]
  },
  {
   "cell_type": "markdown",
   "metadata": {},
   "source": [
    "### Load data"
   ]
  },
  {
   "cell_type": "code",
   "execution_count": 8,
   "metadata": {
    "collapsed": false
   },
   "outputs": [
    {
     "name": "stdout",
     "output_type": "stream",
     "text": [
      "['Y' 'x1' 'y1' 'x2' 'y2' 'angle1' 'angle2' 'distance' 'score'\n",
      " 'cons_score_max' 'cons_score_mean' 'cons_curMax' 'inters_score_max'\n",
      " 'inters_score_mean']\n"
     ]
    }
   ],
   "source": [
    "datafiles_number = 1\n",
    "cons = pandas.DataFrame()\n",
    "for i in range(datafiles_number):\n",
    "    new_cons = pandas.read_csv(\"../data/connections_dataset_\"+str(i)+\".csv\")\n",
    "    cons = cons.append( new_cons, ignore_index=True )\n",
    "\n",
    "print( cons.columns.values )\n",
    "#hist(cons['angle1'],bins=50)"
   ]
  },
  {
   "cell_type": "code",
   "execution_count": 9,
   "metadata": {
    "collapsed": false
   },
   "outputs": [
    {
     "data": {
      "text/html": [
       "<div>\n",
       "<table border=\"1\" class=\"dataframe\">\n",
       "  <thead>\n",
       "    <tr style=\"text-align: right;\">\n",
       "      <th></th>\n",
       "      <th>Y</th>\n",
       "      <th>x1</th>\n",
       "      <th>y1</th>\n",
       "      <th>x2</th>\n",
       "      <th>y2</th>\n",
       "      <th>angle1</th>\n",
       "      <th>angle2</th>\n",
       "      <th>distance</th>\n",
       "      <th>score</th>\n",
       "      <th>cons_score_max</th>\n",
       "      <th>cons_score_mean</th>\n",
       "      <th>cons_curMax</th>\n",
       "      <th>inters_score_max</th>\n",
       "      <th>inters_score_mean</th>\n",
       "    </tr>\n",
       "  </thead>\n",
       "  <tbody>\n",
       "    <tr>\n",
       "      <th>count</th>\n",
       "      <td>6373.000000</td>\n",
       "      <td>6373.000000</td>\n",
       "      <td>6373.000000</td>\n",
       "      <td>6373.000000</td>\n",
       "      <td>6373.000000</td>\n",
       "      <td>6373.000000</td>\n",
       "      <td>6373.000000</td>\n",
       "      <td>6373.000000</td>\n",
       "      <td>6373.000000</td>\n",
       "      <td>6373.000000</td>\n",
       "      <td>6373.000000</td>\n",
       "      <td>6373.000000</td>\n",
       "      <td>6373.000000</td>\n",
       "      <td>6373.000000</td>\n",
       "    </tr>\n",
       "    <tr>\n",
       "      <th>mean</th>\n",
       "      <td>0.069983</td>\n",
       "      <td>1768.536361</td>\n",
       "      <td>1028.387907</td>\n",
       "      <td>1770.887580</td>\n",
       "      <td>1030.098229</td>\n",
       "      <td>-0.633503</td>\n",
       "      <td>-0.688845</td>\n",
       "      <td>65.908688</td>\n",
       "      <td>-1.173142</td>\n",
       "      <td>-3.193156</td>\n",
       "      <td>-1.167114</td>\n",
       "      <td>0.074376</td>\n",
       "      <td>-278.679215</td>\n",
       "      <td>-0.691440</td>\n",
       "    </tr>\n",
       "    <tr>\n",
       "      <th>std</th>\n",
       "      <td>0.255138</td>\n",
       "      <td>950.658092</td>\n",
       "      <td>1162.402927</td>\n",
       "      <td>950.505805</td>\n",
       "      <td>1162.421872</td>\n",
       "      <td>1.159902</td>\n",
       "      <td>1.181231</td>\n",
       "      <td>53.017305</td>\n",
       "      <td>1.594379</td>\n",
       "      <td>67.405287</td>\n",
       "      <td>0.593001</td>\n",
       "      <td>0.262403</td>\n",
       "      <td>449.081614</td>\n",
       "      <td>0.803545</td>\n",
       "    </tr>\n",
       "    <tr>\n",
       "      <th>min</th>\n",
       "      <td>0.000000</td>\n",
       "      <td>70.000000</td>\n",
       "      <td>-1573.800000</td>\n",
       "      <td>70.100000</td>\n",
       "      <td>-1573.800000</td>\n",
       "      <td>-3.000000</td>\n",
       "      <td>-3.000000</td>\n",
       "      <td>0.000000</td>\n",
       "      <td>-5.626827</td>\n",
       "      <td>-1000.000000</td>\n",
       "      <td>-5.037965</td>\n",
       "      <td>0.000000</td>\n",
       "      <td>-1000.000000</td>\n",
       "      <td>-5.456238</td>\n",
       "    </tr>\n",
       "    <tr>\n",
       "      <th>25%</th>\n",
       "      <td>0.000000</td>\n",
       "      <td>838.376983</td>\n",
       "      <td>22.200000</td>\n",
       "      <td>830.700000</td>\n",
       "      <td>25.157834</td>\n",
       "      <td>-1.513748</td>\n",
       "      <td>-1.644391</td>\n",
       "      <td>26.352538</td>\n",
       "      <td>-2.040231</td>\n",
       "      <td>1.220146</td>\n",
       "      <td>-1.533506</td>\n",
       "      <td>0.000000</td>\n",
       "      <td>-1000.000000</td>\n",
       "      <td>-1.164366</td>\n",
       "    </tr>\n",
       "    <tr>\n",
       "      <th>50%</th>\n",
       "      <td>0.000000</td>\n",
       "      <td>1853.728061</td>\n",
       "      <td>1090.398374</td>\n",
       "      <td>1871.904998</td>\n",
       "      <td>1102.035125</td>\n",
       "      <td>-0.463744</td>\n",
       "      <td>-0.535800</td>\n",
       "      <td>49.546711</td>\n",
       "      <td>-1.332919</td>\n",
       "      <td>1.655857</td>\n",
       "      <td>-1.139492</td>\n",
       "      <td>0.000000</td>\n",
       "      <td>0.708066</td>\n",
       "      <td>-0.540388</td>\n",
       "    </tr>\n",
       "    <tr>\n",
       "      <th>75%</th>\n",
       "      <td>0.000000</td>\n",
       "      <td>2542.384784</td>\n",
       "      <td>1961.184131</td>\n",
       "      <td>2548.865973</td>\n",
       "      <td>1962.697074</td>\n",
       "      <td>0.357455</td>\n",
       "      <td>0.349809</td>\n",
       "      <td>91.511841</td>\n",
       "      <td>-0.014756</td>\n",
       "      <td>1.902973</td>\n",
       "      <td>-0.762315</td>\n",
       "      <td>0.000000</td>\n",
       "      <td>1.446857</td>\n",
       "      <td>0.000000</td>\n",
       "    </tr>\n",
       "    <tr>\n",
       "      <th>max</th>\n",
       "      <td>1.000000</td>\n",
       "      <td>3547.000000</td>\n",
       "      <td>2936.600000</td>\n",
       "      <td>3547.000000</td>\n",
       "      <td>2936.600000</td>\n",
       "      <td>1.000000</td>\n",
       "      <td>1.000000</td>\n",
       "      <td>288.773146</td>\n",
       "      <td>1.966500</td>\n",
       "      <td>1.966500</td>\n",
       "      <td>1.169223</td>\n",
       "      <td>1.000000</td>\n",
       "      <td>1.953001</td>\n",
       "      <td>1.407033</td>\n",
       "    </tr>\n",
       "  </tbody>\n",
       "</table>\n",
       "</div>"
      ],
      "text/plain": [
       "                 Y           x1           y1           x2           y2  \\\n",
       "count  6373.000000  6373.000000  6373.000000  6373.000000  6373.000000   \n",
       "mean      0.069983  1768.536361  1028.387907  1770.887580  1030.098229   \n",
       "std       0.255138   950.658092  1162.402927   950.505805  1162.421872   \n",
       "min       0.000000    70.000000 -1573.800000    70.100000 -1573.800000   \n",
       "25%       0.000000   838.376983    22.200000   830.700000    25.157834   \n",
       "50%       0.000000  1853.728061  1090.398374  1871.904998  1102.035125   \n",
       "75%       0.000000  2542.384784  1961.184131  2548.865973  1962.697074   \n",
       "max       1.000000  3547.000000  2936.600000  3547.000000  2936.600000   \n",
       "\n",
       "            angle1       angle2     distance        score  cons_score_max  \\\n",
       "count  6373.000000  6373.000000  6373.000000  6373.000000     6373.000000   \n",
       "mean     -0.633503    -0.688845    65.908688    -1.173142       -3.193156   \n",
       "std       1.159902     1.181231    53.017305     1.594379       67.405287   \n",
       "min      -3.000000    -3.000000     0.000000    -5.626827    -1000.000000   \n",
       "25%      -1.513748    -1.644391    26.352538    -2.040231        1.220146   \n",
       "50%      -0.463744    -0.535800    49.546711    -1.332919        1.655857   \n",
       "75%       0.357455     0.349809    91.511841    -0.014756        1.902973   \n",
       "max       1.000000     1.000000   288.773146     1.966500        1.966500   \n",
       "\n",
       "       cons_score_mean  cons_curMax  inters_score_max  inters_score_mean  \n",
       "count      6373.000000  6373.000000       6373.000000        6373.000000  \n",
       "mean         -1.167114     0.074376       -278.679215          -0.691440  \n",
       "std           0.593001     0.262403        449.081614           0.803545  \n",
       "min          -5.037965     0.000000      -1000.000000          -5.456238  \n",
       "25%          -1.533506     0.000000      -1000.000000          -1.164366  \n",
       "50%          -1.139492     0.000000          0.708066          -0.540388  \n",
       "75%          -0.762315     0.000000          1.446857           0.000000  \n",
       "max           1.169223     1.000000          1.953001           1.407033  "
      ]
     },
     "execution_count": 9,
     "metadata": {},
     "output_type": "execute_result"
    }
   ],
   "source": [
    "cons.describe()"
   ]
  },
  {
   "cell_type": "code",
   "execution_count": null,
   "metadata": {
    "collapsed": false
   },
   "outputs": [],
   "source": [
    "#Scatter plot all data\n",
    "scatter_matrix(cons, alpha=0.2, figsize=(6, 6), diagonal='kde')\n",
    "show()"
   ]
  },
  {
   "cell_type": "code",
   "execution_count": null,
   "metadata": {
    "collapsed": false
   },
   "outputs": [],
   "source": [
    "#Group by Y and scatter\n",
    "scatter_matrix(cons.ix[ cons.ix[:,0]==1, 1 : ], alpha=0.2, figsize=(8,8), diagonal='kde')\n",
    "show()\n",
    "scatter_matrix(cons.ix[ cons.ix[:,0]==0, 1 : ], alpha=0.2, figsize=(8,8), diagonal='kde')\n",
    "show()\n"
   ]
  },
  {
   "cell_type": "markdown",
   "metadata": {},
   "source": [
    "### Format data"
   ]
  },
  {
   "cell_type": "code",
   "execution_count": 33,
   "metadata": {
    "collapsed": false
   },
   "outputs": [
    {
     "data": {
      "text/plain": [
       "array(['Y', 'x1', 'y1', 'x2', 'y2', 'angle1', 'angle2', 'distance',\n",
       "       'score', 'cons_score_max', 'cons_score_mean', 'cons_curMax',\n",
       "       'inters_score_max', 'inters_score_mean'], dtype=object)"
      ]
     },
     "execution_count": 33,
     "metadata": {},
     "output_type": "execute_result"
    }
   ],
   "source": [
    "cons.columns.values"
   ]
  },
  {
   "cell_type": "code",
   "execution_count": 87,
   "metadata": {
    "collapsed": false
   },
   "outputs": [
    {
     "name": "stdout",
     "output_type": "stream",
     "text": [
      "9\n",
      "(6065, 9)\n",
      "(6065,)\n"
     ]
    }
   ],
   "source": [
    "# 1 angle1 0.141016591082\n",
    "# 2 angle2 0.140071976028\n",
    "# 3 distance -0.00104193567356\n",
    "# 4 DTS 0.000173396848109\n",
    "# 5 I_COUNT -0.00334494362288\n",
    "# 6 IsWithingEdge -0.0969711886275\n",
    "# 7 parallel_score 0.122432937273\n",
    "# 8 score 0.0859794673862\n",
    "\n",
    "#             features[cons_score_max] =  -1000;\n",
    "#             features[cons_score_mean] = 0;\n",
    "#             features[cons_curMax] = 0;\n",
    "#             features[inters_score_max] = -1000;\n",
    "#             features[inters_score_mean] = 0;\n",
    "            \n",
    "feature_names = ['angle1', 'angle2', 'distance', 'score', 'cons_score_max', 'cons_score_mean',\n",
    "       'cons_curMax', 'inters_score_max',\n",
    "       'inters_score_mean',]\n",
    "\n",
    "#feature_names = ['angle1', 'angle2', 'distance']\n",
    "\n",
    "X = np.array(cons[feature_names],dtype=float)\n",
    "Y = np.array(cons['Y'],dtype=float)\n",
    "\n",
    "print(len(feature_names))\n",
    "print(X.shape)\n",
    "print(Y.shape)"
   ]
  },
  {
   "cell_type": "code",
   "execution_count": 59,
   "metadata": {
    "collapsed": false
   },
   "outputs": [
    {
     "data": {
      "text/plain": [
       "array([[  6.23955986e-01,   8.96401724e-01,   3.62254593e+01, ...,\n",
       "          1.00000000e+00,  -1.00000000e+03,   0.00000000e+00],\n",
       "       [  6.30477759e-01,   4.54822462e-01,   9.77668382e+01, ...,\n",
       "          0.00000000e+00,   1.16284365e+00,   9.90169049e-01],\n",
       "       [  7.94227837e-01,   9.28247894e-01,   1.91501471e+02, ...,\n",
       "          0.00000000e+00,   1.19716101e+00,   1.05916637e+00],\n",
       "       ..., \n",
       "       [  4.71662721e-01,  -9.98582767e-02,   1.02089313e+02, ...,\n",
       "          0.00000000e+00,   1.34625584e+00,   6.83540050e-01],\n",
       "       [  7.08453513e-01,  -1.71435777e-01,   1.03778790e+02, ...,\n",
       "          0.00000000e+00,   1.12826982e+00,   4.91295216e-01],\n",
       "       [  1.00000000e+00,   1.00000000e+00,   1.29349554e+01, ...,\n",
       "          1.00000000e+00,  -1.00000000e+03,   0.00000000e+00]])"
      ]
     },
     "execution_count": 59,
     "metadata": {},
     "output_type": "execute_result"
    }
   ],
   "source": [
    "X"
   ]
  },
  {
   "cell_type": "markdown",
   "metadata": {},
   "source": [
    "### Generate Draft score"
   ]
  },
  {
   "cell_type": "code",
   "execution_count": 203,
   "metadata": {
    "collapsed": false
   },
   "outputs": [
    {
     "name": "stdout",
     "output_type": "stream",
     "text": [
      "scores:  [0.96537510305028851, 0.96537510305028851, 0.95960428689200328, 0.96042868920032975, 0.96372629843363566]\n",
      "e: -0.550459829065\n",
      "angle1: 1.62793116524\n",
      "angle2: 1.88947971323\n",
      "distance: -0.0630682678325\n"
     ]
    }
   ],
   "source": [
    "linear_feature_names = ['angle1', 'angle2', 'distance']\n",
    "\n",
    "X_linear = np.array(cons[linear_feature_names],dtype=float)\n",
    "Y_linear = np.array(cons['Y'],dtype=float)\n",
    "\n",
    "\n",
    "es = []\n",
    "coefs = []\n",
    "scores = []\n",
    "\n",
    "for train_ids, test_ids in sk.cross_validation.StratifiedKFold(Y,n_folds=5):\n",
    "\n",
    "    X_train = X_linear[train_ids]\n",
    "    Y_train = Y_linear[train_ids]\n",
    "    X_test = X_linear[test_ids]\n",
    "    Y_test = Y_linear[test_ids]\n",
    "\n",
    "    clf = sk.linear_model.LogisticRegression()\n",
    "    clf.fit(X_train,Y_train)\n",
    "\n",
    "    #print( 'score: ',clf.score(X_test,Y_test) )\n",
    "\n",
    "    scores.append(clf.score(X_test,Y_test))\n",
    "    es.append( clf.intercept_[0] )\n",
    "    coefs.append(clf.coef_[0])\n",
    "    \n",
    "    #print('e:',clf.intercept_[0])\n",
    "    #for name,weight in zip(linear_feature_names,clf.coef_[0]):\n",
    "        #print(name,': ',weight,sep='')\n",
    "\n",
    "#     prop1 = clf.predict_proba([x])[0][0]\n",
    "#     log_odds = -math.exp((x*clf.coef_).sum()+clf.intercept_[0])\n",
    "#     odds = exp(log_odds)\n",
    "#     prob = odds\n",
    "#     deviation.append(prop1-prob)\n",
    "    \n",
    "es = np.array(es)\n",
    "coefs = np.array(coefs)\n",
    "\n",
    "print('scores: ',scores)\n",
    "print('e:',es.mean())\n",
    "for name,weight in zip(linear_feature_names,coefs.mean(axis=0)):\n",
    "    print(name,': ',weight,sep='')\n"
   ]
  },
  {
   "cell_type": "code",
   "execution_count": null,
   "metadata": {
    "collapsed": true
   },
   "outputs": [],
   "source": []
  },
  {
   "cell_type": "markdown",
   "metadata": {},
   "source": [
    "### Test goodness-of-fit"
   ]
  },
  {
   "cell_type": "code",
   "execution_count": 83,
   "metadata": {
    "collapsed": false
   },
   "outputs": [
    {
     "name": "stdout",
     "output_type": "stream",
     "text": [
      "f score: 0.832786885246\n",
      "precision: 0.846773759673\n",
      "recall: 0.799782733606\n",
      "roc : 0.883039493823\n",
      "roc : 0.883039493823\n"
     ]
    }
   ],
   "source": [
    "# fscores_min = []\n",
    "# precision_min = []\n",
    "# recall_min = []\n",
    "# roc_min = []\n",
    "\n",
    "# mistake_counts = np.zeros(len(Y))\n",
    "\n",
    "#clf = sk.tree.DecisionTreeClassifier(random_state=42,min_samples_leaf=3,max_depth=2,class_weight='balanced')\n",
    "clf = sk.ensemble.AdaBoostClassifier(random_state=42,n_estimators=100)\n",
    "#clf = sk.linear_model.LinearRegression()\n",
    "\n",
    "fscores_min, precision_min, recall_min, roc_min, mistake_counts = cvAdvanced(clf,X,Y,regression=False)\n",
    "\n",
    "#print(\"f score:\",fscores_min[-1])\n",
    "#print(\"precision:\",precision_min[-1])\n",
    "#print(\"recall:\",recall_min[-1])\n",
    "print(\"roc :\",roc_min[-1])"
   ]
  },
  {
   "cell_type": "code",
   "execution_count": 84,
   "metadata": {
    "collapsed": false
   },
   "outputs": [],
   "source": [
    "plot(fscores_min,'k')\n",
    "plot(precision_min,'r')\n",
    "plot(recall_min,'b')\n",
    "plot(roc_min,'y')\n",
    "grid(True)"
   ]
  },
  {
   "cell_type": "code",
   "execution_count": 17,
   "metadata": {
    "collapsed": false
   },
   "outputs": [
    {
     "ename": "AttributeError",
     "evalue": "'RandomForestClassifier' object has no attribute 'coef_'",
     "output_type": "error",
     "traceback": [
      "\u001b[1;31m---------------------------------------------------------------------------\u001b[0m",
      "\u001b[1;31mAttributeError\u001b[0m                            Traceback (most recent call last)",
      "\u001b[1;32m<ipython-input-17-34ec0ee4c6db>\u001b[0m in \u001b[0;36m<module>\u001b[1;34m()\u001b[0m\n\u001b[1;32m----> 1\u001b[1;33m \u001b[1;32mfor\u001b[0m \u001b[0mname\u001b[0m\u001b[1;33m,\u001b[0m \u001b[0mval\u001b[0m \u001b[1;32min\u001b[0m \u001b[0mzip\u001b[0m\u001b[1;33m(\u001b[0m \u001b[0mfeature_names\u001b[0m\u001b[1;33m,\u001b[0m\u001b[0mclf\u001b[0m\u001b[1;33m.\u001b[0m\u001b[0mcoef_\u001b[0m\u001b[1;33m)\u001b[0m\u001b[1;33m:\u001b[0m\u001b[1;33m\u001b[0m\u001b[0m\n\u001b[0m\u001b[0;32m      2\u001b[0m     \u001b[0mprint\u001b[0m\u001b[1;33m(\u001b[0m\u001b[0mname\u001b[0m\u001b[1;33m,\u001b[0m\u001b[0mval\u001b[0m\u001b[1;33m)\u001b[0m\u001b[1;33m\u001b[0m\u001b[0m\n",
      "\u001b[1;31mAttributeError\u001b[0m: 'RandomForestClassifier' object has no attribute 'coef_'"
     ]
    }
   ],
   "source": [
    "for name, val in zip( feature_names,clf.coef_):\n",
    "    print(name,val)"
   ]
  },
  {
   "cell_type": "code",
   "execution_count": 260,
   "metadata": {
    "collapsed": false
   },
   "outputs": [
    {
     "data": {
      "text/plain": [
       "[('angle2', 0.0),\n",
       " ('cons_score_mean', 0.0),\n",
       " ('cons_curMax', 0.0),\n",
       " ('angle1', 0.011237259532150091),\n",
       " ('score', 0.077520830298469443),\n",
       " ('inters_score_mean', 0.084101313942202896),\n",
       " ('cons_score_max', 0.12213004879433871),\n",
       " ('inters_score_max', 0.27400836521308325),\n",
       " ('distance', 0.43100218221975561)]"
      ]
     },
     "execution_count": 260,
     "metadata": {},
     "output_type": "execute_result"
    }
   ],
   "source": [
    "feature_values = []\n",
    "for name, val in zip( feature_names,clf.feature_importances_):\n",
    "    feature_values.append( (name,val) )\n",
    "\n",
    "feature_values.sort(key=lambda x: x[1])\n",
    "\n",
    "feature_values"
   ]
  },
  {
   "cell_type": "code",
   "execution_count": 569,
   "metadata": {
    "collapsed": true
   },
   "outputs": [],
   "source": [
    "plot(roc_min)\n",
    "grid(True)"
   ]
  },
  {
   "cell_type": "code",
   "execution_count": 743,
   "metadata": {
    "collapsed": true
   },
   "outputs": [],
   "source": []
  },
  {
   "cell_type": "code",
   "execution_count": 54,
   "metadata": {
    "collapsed": false
   },
   "outputs": [
    {
     "name": "stdout",
     "output_type": "stream",
     "text": [
      "fail_threshold:  50.0\n",
      "ok_threshold:  50.0\n",
      "pred count:  0.0\n"
     ]
    }
   ],
   "source": [
    "fail_threshold = np.percentile(mistake_counts,95)\n",
    "ok_threshold = np.percentile(mistake_counts,20)\n",
    "\n",
    "print(\"fail_threshold: \",fail_threshold)\n",
    "print(\"ok_threshold: \",ok_threshold)\n",
    "\n",
    "path_to_map = \"C:/Users/Artyom.Fomenko/maps3d/connections_dataset_0_map.json\"\n",
    "\n",
    "with open(path_to_map,'r') as f:\n",
    "    MAP = json.load(f)\n",
    "\n",
    "for isoline in MAP:\n",
    "    line = np.array( [i for i in zip(isoline['lineString']['xs'],isoline['lineString']['ys'])] )\n",
    "    plot(*line.T)\n",
    "    \n",
    "Y_pred = clf_final.predict(cons[feature_names])\n",
    "print(\"pred count: \",Y_pred.sum())\n",
    "\n",
    "for x1,y1,x2,y2,mistakes,answer,pred in zip(cons['x1'],cons['y1'],cons['x2'],cons['y2'],mistake_counts,Y,Y_pred):\n",
    "    \n",
    "    \n",
    "    if answer == 1:\n",
    "        plot([x1,x2],[y1,y2],'g',linewidth=2)\n",
    "        \n",
    "    if pred == 1:\n",
    "        plot([x1,x2],[y1,y2],'r--',linewidth=3.0)\n",
    "        \n",
    "        \n",
    "\n",
    "show()"
   ]
  },
  {
   "cell_type": "markdown",
   "metadata": {},
   "source": [
    "### Final fit and it's score"
   ]
  },
  {
   "cell_type": "code",
   "execution_count": 23,
   "metadata": {
    "collapsed": false
   },
   "outputs": [
    {
     "data": {
      "text/plain": [
       "RandomForestClassifier(bootstrap=True, class_weight=None, criterion='gini',\n",
       "            max_depth=4, max_features=4, max_leaf_nodes=14,\n",
       "            min_samples_leaf=250, min_samples_split=2,\n",
       "            min_weight_fraction_leaf=0.0, n_estimators=1000, n_jobs=1,\n",
       "            oob_score=False, random_state=42, verbose=0, warm_start=False)"
      ]
     },
     "execution_count": 23,
     "metadata": {},
     "output_type": "execute_result"
    }
   ],
   "source": [
    "clf_final = sk.ensemble.RandomForestClassifier(random_state=42,n_estimators=1000,\\\n",
    "                                         min_samples_leaf=250,max_features=4,max_depth=4,max_leaf_nodes=14)\n",
    "clf_final.fit(X,Y)"
   ]
  },
  {
   "cell_type": "code",
   "execution_count": 24,
   "metadata": {
    "collapsed": false
   },
   "outputs": [
    {
     "name": "stderr",
     "output_type": "stream",
     "text": [
      "C:\\Users\\Artyom.Fomenko\\Anaconda3\\lib\\site-packages\\sklearn\\metrics\\classification.py:1074: UndefinedMetricWarning: F-score is ill-defined and being set to 0.0 in labels with no predicted samples.\n",
      "  'precision', 'predicted', average, warn_for)\n",
      "C:\\Users\\Artyom.Fomenko\\Anaconda3\\lib\\site-packages\\sklearn\\metrics\\classification.py:1074: UndefinedMetricWarning: F-score is ill-defined and being set to 0.0 in labels with no predicted samples.\n",
      "  'precision', 'predicted', average, warn_for)\n",
      "C:\\Users\\Artyom.Fomenko\\Anaconda3\\lib\\site-packages\\sklearn\\metrics\\classification.py:1074: UndefinedMetricWarning: F-score is ill-defined and being set to 0.0 in labels with no predicted samples.\n",
      "  'precision', 'predicted', average, warn_for)\n",
      "C:\\Users\\Artyom.Fomenko\\Anaconda3\\lib\\site-packages\\sklearn\\metrics\\classification.py:1074: UndefinedMetricWarning: F-score is ill-defined and being set to 0.0 in labels with no predicted samples.\n",
      "  'precision', 'predicted', average, warn_for)\n",
      "C:\\Users\\Artyom.Fomenko\\Anaconda3\\lib\\site-packages\\sklearn\\metrics\\classification.py:1074: UndefinedMetricWarning: F-score is ill-defined and being set to 0.0 in labels with no predicted samples.\n",
      "  'precision', 'predicted', average, warn_for)\n"
     ]
    }
   ],
   "source": [
    "scores = sk.cross_validation.cross_val_score(clf_final, X, Y, cv=5, scoring='f1_weighted')"
   ]
  },
  {
   "cell_type": "code",
   "execution_count": 25,
   "metadata": {
    "collapsed": false
   },
   "outputs": [
    {
     "data": {
      "text/plain": [
       "array([ 0.81573021,  0.81478415,  0.81478415,  0.81478415,  0.82140249])"
      ]
     },
     "execution_count": 25,
     "metadata": {},
     "output_type": "execute_result"
    }
   ],
   "source": [
    "scores"
   ]
  },
  {
   "cell_type": "code",
   "execution_count": 26,
   "metadata": {
    "collapsed": false
   },
   "outputs": [
    {
     "data": {
      "text/plain": [
       "array([ 0.81573021,  0.81478415,  0.81478415,  0.81478415,  0.82140249])"
      ]
     },
     "execution_count": 26,
     "metadata": {},
     "output_type": "execute_result"
    }
   ],
   "source": [
    "scores"
   ]
  },
  {
   "cell_type": "code",
   "execution_count": 27,
   "metadata": {
    "collapsed": false
   },
   "outputs": [
    {
     "data": {
      "text/plain": [
       "0.87473684210526315"
      ]
     },
     "execution_count": 27,
     "metadata": {},
     "output_type": "execute_result"
    }
   ],
   "source": [
    "clf_final.score(X,Y)"
   ]
  },
  {
   "cell_type": "code",
   "execution_count": 47,
   "metadata": {
    "collapsed": false
   },
   "outputs": [
    {
     "data": {
      "text/plain": [
       "array([[ 0.95442359],\n",
       "       [ 0.95442359],\n",
       "       [ 0.95442359],\n",
       "       [ 0.95442359],\n",
       "       [ 0.43561208],\n",
       "       [ 0.95442359],\n",
       "       [ 0.95442359],\n",
       "       [ 0.84339623],\n",
       "       [ 0.95442359],\n",
       "       [ 0.95442359]])"
      ]
     },
     "execution_count": 47,
     "metadata": {},
     "output_type": "execute_result"
    }
   ],
   "source": [
    "tree = clf_final.estimators_[0]\n",
    "#tree.predict(np.array(X[0:1],dtype=np.float32))\n",
    "tree.tree_.predict(np.array(X[0:10],dtype=np.float32))\n",
    "# sk.tree.export.export_graphviz(tree,\n",
    "#                                feature_names=feature_names,\n",
    "#                                class_names=[\"False\",\"True\"],\n",
    "#                                label='all',\n",
    "#                                out_file='C:/Users/Artyom.Fomenko/Desktop/tree.dot')"
   ]
  },
  {
   "cell_type": "code",
   "execution_count": 158,
   "metadata": {
    "collapsed": false
   },
   "outputs": [
    {
     "data": {
      "text/plain": [
       "array([ 0.92999098,  0.92999098,  0.9438858 ,  0.94391358,  0.60597564,\n",
       "        0.9438858 ,  0.9438858 ,  0.72059584,  0.9438858 ,  0.92999098])"
      ]
     },
     "execution_count": 158,
     "metadata": {},
     "output_type": "execute_result"
    }
   ],
   "source": [
    "clf_final.predict(X[0:10])"
   ]
  },
  {
   "cell_type": "code",
   "execution_count": 157,
   "metadata": {
    "collapsed": false
   },
   "outputs": [
    {
     "name": "stdout",
     "output_type": "stream",
     "text": [
      "System.out.println( clf.predict(new double[]{1.0, 1.0, 0.51452525198, 1.96774775394, -1000.0, 0.0, 0.0, -1000.0, 0.0}));\n",
      "System.out.println( clf.predict(new double[]{1.0, 1.0, 0.432822733482, 1.96792913353, -1000.0, 0.0, 0.0, -1000.0, 0.0}));\n",
      "System.out.println( clf.predict(new double[]{0.999999999991, 0.99999999999, 0.251325986557, 1.96833205629, 0.565146632863, 0.565146632863, 1.0, -1000.0, 0.0}));\n",
      "System.out.println( clf.predict(new double[]{1.0, 0.999999999998, 0.341717755557, 1.96813138658, 0.926953898949, 0.926953898949, 1.0, -1000.0, 0.0}));\n",
      "System.out.println( clf.predict(new double[]{1.0, -1.02946293777, 0.25, 0.182407614765, 0.804550757751, 0.804550757751, 0.0, -1000.0, 0.0}));\n",
      "System.out.println( clf.predict(new double[]{1.0, 1.0, 0.398084848481, 1.96800625164, 0.814962413376, 0.814962413376, 1.0, -1000.0, 0.0}));\n",
      "System.out.println( clf.predict(new double[]{0.999999999998, 0.999999999998, 0.26170108356, 1.96830902359, 0.563662760697, 0.563662760697, 1.0, -1000.0, 0.0}));\n",
      "System.out.println( clf.predict(new double[]{1.0, 0.00409562234995, 0.25, 1.09193914767, -1000.0, 0.0, 0.0, -1000.0, 0.0}));\n",
      "System.out.println( clf.predict(new double[]{1.0, 1.0, 0.457140270797, 1.9678751486, 0.191413552447, 0.191413552447, 1.0, -1000.0, 0.0}));\n",
      "System.out.println( clf.predict(new double[]{1.0, 1.0, 0.599237925582, 1.96755969181, -1000.0, 0.0, 0.0, -1000.0, 0.0}));\n"
     ]
    }
   ],
   "source": [
    "for x in X[0:10]:\n",
    "    print(\"System.out.println( clf.predict(new double[]{\",end='')\n",
    "    print(*x,sep=\", \",end='')\n",
    "    print(\"}));\")"
   ]
  },
  {
   "cell_type": "code",
   "execution_count": 106,
   "metadata": {
    "collapsed": false
   },
   "outputs": [],
   "source": [
    "def predictOne(tree,sample):\n",
    "    left = tree.children_left\n",
    "    right = tree.children_right\n",
    "    threshold = tree.threshold\n",
    "    feature = tree.feature\n",
    "    value = tree.value\n",
    "\n",
    "    node_id = 0\n",
    "\n",
    "    while (feature[node_id] != -2):\n",
    "        if (sample[feature[node_id]] > threshold[node_id]):\n",
    "            node_id = right[node_id]\n",
    "        else:\n",
    "            node_id = left[node_id]\n",
    "\n",
    "    return tree.value[node_id][0][0]\n",
    "\n",
    "def predict(tree, samples):\n",
    "    ret = []\n",
    "    for sample in samples:\n",
    "        ret.append(predictOne(tree,sample))\n",
    "    return np.array(ret)\n",
    "\n",
    "#predict(tree.tree_,X)\n",
    "#tree.predict(X)"
   ]
  },
  {
   "cell_type": "code",
   "execution_count": 138,
   "metadata": {
    "collapsed": false
   },
   "outputs": [],
   "source": [
    "def writeArrayToFile(f, arr):\n",
    "    \n",
    "    for i,val in enumerate(arr):\n",
    "        f.write( \"{}\".format(val) )\n",
    "        if (i != len(arr)-1):\n",
    "            f.write(\" \")\n",
    "        else:\n",
    "            f.write(\"\\n\")\n",
    "\n",
    "def writeTreeToFile(f, tree):\n",
    "\n",
    "    f.write(\"{}\\n\".format(tree.node_count))\n",
    "    writeArrayToFile(f,tree.children_left)\n",
    "    writeArrayToFile(f,tree.children_right)\n",
    "    writeArrayToFile(f,tree.threshold)\n",
    "    writeArrayToFile(f,tree.feature)\n",
    "    writeArrayToFile(f,tree.value[:,:,0].T[0])\n",
    "    \n",
    "def writeForestToFile(f,forest):\n",
    "    \n",
    "    f.write(\"{}\\n\".format(forest[0].n_features_))\n",
    "    f.write(\"{}\\n\".format(len(forest)))\n",
    "    for tree in forest:\n",
    "        writeTreeToFile(f,tree.tree_)\n",
    "        \n",
    "with open(\"C:/Users/Artyom.Fomenko/Desktop/forest.txt\",'w') as f:\n",
    "    writeForestToFile(f,clf_final.estimators_)"
   ]
  },
  {
   "cell_type": "code",
   "execution_count": 144,
   "metadata": {
    "collapsed": false
   },
   "outputs": [
    {
     "data": {
      "text/plain": [
       "False"
      ]
     },
     "execution_count": 144,
     "metadata": {},
     "output_type": "execute_result"
    }
   ],
   "source": []
  },
  {
   "cell_type": "code",
   "execution_count": 1,
   "metadata": {
    "collapsed": false
   },
   "outputs": [
    {
     "ename": "NameError",
     "evalue": "name 'np' is not defined",
     "output_type": "error",
     "traceback": [
      "\u001b[1;31m---------------------------------------------------------------------------\u001b[0m",
      "\u001b[1;31mNameError\u001b[0m                                 Traceback (most recent call last)",
      "\u001b[1;32m<ipython-input-1-e2a1d6c0f759>\u001b[0m in \u001b[0;36m<module>\u001b[1;34m()\u001b[0m\n\u001b[1;32m----> 1\u001b[1;33m \u001b[0mnp\u001b[0m\u001b[1;33m.\u001b[0m\u001b[0marray\u001b[0m\u001b[1;33m(\u001b[0m \u001b[0mX\u001b[0m\u001b[1;33m[\u001b[0m\u001b[1;36m0\u001b[0m\u001b[1;33m]\u001b[0m\u001b[1;33m,\u001b[0m\u001b[0mdtype\u001b[0m\u001b[1;33m=\u001b[0m\u001b[0mnp\u001b[0m\u001b[1;33m.\u001b[0m\u001b[0mfloat32\u001b[0m\u001b[1;33m)\u001b[0m\u001b[1;33m\u001b[0m\u001b[0m\n\u001b[0m",
      "\u001b[1;31mNameError\u001b[0m: name 'np' is not defined"
     ]
    }
   ],
   "source": [
    "np.array( X[0],dtype=np.float32)"
   ]
  },
  {
   "cell_type": "code",
   "execution_count": 177,
   "metadata": {
    "collapsed": false
   },
   "outputs": [
    {
     "name": "stdout",
     "output_type": "stream",
     "text": [
      "0.224018251621\n",
      "['angle1', 'angle2', 'distance', 'score', 'cons_score_max', 'cons_score_mean', 'cons_curMax', 'inters_score_max', 'inters_score_mean']\n",
      "[  5.48845582e-02   4.51298321e-02  -6.76192408e-03   8.79667531e-02\n",
      "  -3.21897595e-04  -1.28781349e-01   4.42307948e-01  -1.33020572e-04\n",
      "  -9.23697360e-02]\n",
      "[0.01, 0.014723618090452261, 0.01944723618090452, 0.024170854271356783, 0.028894472361809045, 0.033618090452261308, 0.038341708542713564, 0.043065326633165826, 0.047788944723618089, 0.052512562814070352, 0.057236180904522614, 0.06195979899497487, 0.066683417085427132, 0.071407035175879388, 0.076130653266331644, 0.080854271356783913, 0.085577889447236169, 0.090301507537688425, 0.095025125628140694, 0.09974874371859295, 0.10447236180904522, 0.10919597989949748, 0.11391959798994973, 0.118643216080402, 0.12336683417085426, 0.12809045226130653, 0.1328140703517588, 0.13753768844221106, 0.14226130653266331, 0.14698492462311558, 0.15170854271356785, 0.15643216080402009, 0.16115577889447236, 0.16587939698492463, 0.17060301507537687, 0.17532663316582914, 0.18005025125628141, 0.18477386934673365, 0.18949748743718592, 0.19422110552763819, 0.19894472361809046, 0.2036683417085427, 0.20839195979899497, 0.21311557788944724, 0.21783919597989948, 0.22256281407035175, 0.22728643216080402, 0.23201005025125626, 0.23673366834170853, 0.2414572864321608, 0.24618090452261304, 0.25090452261306528, 0.25562814070351758, 0.26035175879396982, 0.26507537688442212, 0.26979899497487436, 0.2745226130653266, 0.2792462311557789, 0.28396984924623114, 0.28869346733668338, 0.29341708542713568, 0.29814070351758792, 0.30286432160804017, 0.30758793969849246, 0.3123115577889447, 0.31703517587939695, 0.32175879396984924, 0.32648241206030149, 0.33120603015075373, 0.33592964824120602, 0.34065326633165827, 0.34537688442211051, 0.35010050251256281, 0.35482412060301505, 0.35954773869346729, 0.36427135678391959, 0.36899497487437183, 0.37371859296482407, 0.37844221105527637, 0.38316582914572861, 0.38788944723618091, 0.39261306532663315, 0.39733668341708539, 0.40206030150753769, 0.40678391959798993, 0.41150753768844217, 0.41623115577889447, 0.42095477386934671, 0.42567839195979895, 0.43040201005025125, 0.43512562814070349, 0.43984924623115573, 0.44457286432160803, 0.44929648241206027, 0.45402010050251251, 0.45874371859296481, 0.46346733668341705, 0.46819095477386929, 0.47291457286432159, 0.47763819095477383, 0.48236180904522608, 0.48708542713567837, 0.49180904522613061, 0.49653266331658286, 0.50125628140703515, 0.50597989949748734, 0.51070351758793964, 0.51542713567839193, 0.52015075376884423, 0.52487437185929642, 0.52959798994974872, 0.53432160804020101, 0.5390452261306532, 0.5437688442211055, 0.54849246231155779, 0.55321608040200998, 0.55793969849246228, 0.56266331658291457, 0.56738693467336676, 0.57211055276381906, 0.57683417085427136, 0.58155778894472354, 0.58628140703517584, 0.59100502512562814, 0.59572864321608032, 0.60045226130653262, 0.60517587939698492, 0.6098994974874371, 0.6146231155778894, 0.6193467336683417, 0.62407035175879388, 0.62879396984924618, 0.63351758793969848, 0.63824120603015067, 0.64296482412060296, 0.64768844221105526, 0.65241206030150745, 0.65713567839195974, 0.66185929648241204, 0.66658291457286423, 0.67130653266331652, 0.67603015075376882, 0.68075376884422101, 0.68547738693467331, 0.6902010050251256, 0.69492462311557779, 0.69964824120603009, 0.70437185929648238, 0.70909547738693457, 0.71381909547738687, 0.71854271356783916, 0.72326633165829135, 0.72798994974874365, 0.73271356783919595, 0.73743718592964813, 0.74216080402010043, 0.74688442211055273, 0.75160804020100491, 0.75633165829145721, 0.76105527638190951, 0.7657788944723618, 0.77050251256281399, 0.77522613065326629, 0.77994974874371858, 0.78467336683417077, 0.78939698492462307, 0.79412060301507537, 0.79884422110552755, 0.80356783919597985, 0.80829145728643215, 0.81301507537688433, 0.81773869346733663, 0.82246231155778893, 0.82718592964824111, 0.83190954773869341, 0.83663316582914571, 0.84135678391959789, 0.84608040201005019, 0.85080402010050249, 0.85552763819095468, 0.86025125628140697, 0.86497487437185927, 0.86969849246231146, 0.87442211055276375, 0.87914572864321605, 0.88386934673366824, 0.88859296482412053, 0.89331658291457283, 0.89804020100502502, 0.90276381909547732, 0.90748743718592961, 0.9122110552763818, 0.9169346733668341, 0.92165829145728639, 0.92638190954773858, 0.93110552763819088, 0.93582914572864317, 0.94055276381909536, 0.94527638190954766, 0.94999999999999996]\n"
     ]
    }
   ],
   "source": [
    "clf = sk.linear_model.LinearRegression()\n",
    "clf.fit(X,Y)\n",
    "\n",
    "print(clf.intercept_)\n",
    "print(feature_names)\n",
    "print(clf.coef_)\n",
    "\n",
    "Y_pred = clf_final.predict(X)\n",
    "true_positive = []\n",
    "true_negative = []\n",
    "f1 = []\n",
    "#false_negative = []\n",
    "values_x = []\n",
    "\n",
    "total_positives = (Y==1).sum()\n",
    "total_negatives = (Y==0).sum()\n",
    "\n",
    "precision = []\n",
    "recall = []\n",
    "\n",
    "for threshold in np.linspace(0.01,0.95,200):\n",
    "\n",
    "    values_x.append(threshold)\n",
    "    \n",
    "    Y_bin = Y_pred > threshold\n",
    "    \n",
    "        \n",
    "    false_positive_count = ( np.logical_and( (Y_bin == 1), (Y == 0) ) ) .sum()\n",
    "    false_negative_count = ( np.logical_and( (Y_bin == 0), (Y == 1) ) ) .sum()\n",
    "    true_positive_count = ( np.logical_and( (Y_bin == 1), (Y == 1) ) ) .sum()\n",
    "    true_negative_count = ( np.logical_and( (Y_bin == 0), (Y == 0) ) ) .sum()\n",
    "    \n",
    "    #false_negative.append(false_negative_count/total_positives)\n",
    "    true_positive.append(true_positive_count/total_positives)\n",
    "    true_negative.append(true_negative_count/total_negatives)\n",
    "    \n",
    "    precision_score = true_positive_count/(true_positive_count+false_positive_count)\n",
    "    recall_score = true_positive_count/(true_positive_count+false_negative_count)\n",
    "    f1_score = precision_score*recall_score/(precision_score+recall_score)*2\n",
    "    precision.append( precision_score )\n",
    "    recall.append( recall_score )\n",
    "    f1.append( f1_score )\n",
    "    \n",
    "    \n",
    "plot(values_x,f1,'ko-')\n",
    "plot(values_x,precision,'ro-')\n",
    "plot(values_x,recall,'bo-')\n",
    "show()\n",
    "print(values_x)\n",
    "# scores = clf.predict(X)\n",
    "# fpr, tpr, thresholds = metrics.roc_curve(Y, scores)\n",
    "# len(thresholds)"
   ]
  },
  {
   "cell_type": "code",
   "execution_count": null,
   "metadata": {
    "collapsed": true
   },
   "outputs": [],
   "source": []
  },
  {
   "cell_type": "code",
   "execution_count": 36,
   "metadata": {
    "collapsed": false
   },
   "outputs": [],
   "source": [
    "clf = sk.tree.DecisionTreeClassifier(random_state=42,min_samples_leaf=5,max_depth=2)\n",
    "#clf = sk.ensemble.RandomForestClassifier(random_state=42,n_estimators=10)\n",
    "#clf = sk.linear_model.RidgeClassifier(random_state=42)\n",
    "clf.fit(X,Y)\n",
    "sk.tree.export.export_graphviz(clf,\n",
    "                               feature_names=feature_names,\n",
    "                               class_names=[\"False\",\"True\"],\n",
    "                               label='all',\n",
    "                               out_file='C:/Users/Artyom.Fomenko/Desktop/tree.dot')"
   ]
  },
  {
   "cell_type": "markdown",
   "metadata": {},
   "source": [
    "# Nearby relationships"
   ]
  },
  {
   "cell_type": "code",
   "execution_count": 100,
   "metadata": {
    "collapsed": false
   },
   "outputs": [
    {
     "name": "stderr",
     "output_type": "stream",
     "text": [
      "C:\\Users\\Artyom.Fomenko\\Anaconda3\\lib\\site-packages\\sklearn\\cross_validation.py:516: Warning: The least populated class in y has only 4 members, which is too few. The minimum number of labels for any class cannot be less than n_folds=5.\n",
      "  % (min_labels, self.n_folds)), Warning)\n"
     ]
    }
   ],
   "source": [
    "\n",
    "fscores_min = []\n",
    "precision_min = []\n",
    "recall_min = []\n",
    "\n",
    "for i in log_progress( range(250) ):\n",
    "\n",
    "    ids = np.arange(len(Y_nonan))\n",
    "    np.random.shuffle(ids)\n",
    "    \n",
    "    size = (i*4)+50\n",
    "    Y_base = Y_nonan[ids[:size]]\n",
    "    X_base = X_nonan[ids[:size]]\n",
    "    \n",
    "    fold = sk.cross_validation.StratifiedKFold(Y_base,n_folds=5,shuffle=True,random_state=42)\n",
    "    fscores = []\n",
    "    precisions = []\n",
    "    recalls = []\n",
    "    for train_ids, test_ids in fold:\n",
    "        X_train = X_base[train_ids]\n",
    "        Y_train = Y_base[train_ids]\n",
    "        X_test = X_base[test_ids]\n",
    "        Y_test = Y_base[test_ids]\n",
    "        \n",
    "\n",
    "        #clf = sk.ensemble.RandomForestClassifier(random_state=42,n_estimators=20)\n",
    "        clf = sk.linear_model.RidgeClassifier(class_weight='balanced')\n",
    "        clf.fit(X_train,Y_train)\n",
    "\n",
    "        Y_pred = clf.predict(X_test)\n",
    "        \n",
    "        fscore = sk.metrics.f1_score(Y_test,Y_pred)\n",
    "        precision = sk.metrics.precision_score(Y_test,Y_pred)\n",
    "        recall = sk.metrics.recall_score(Y_test,Y_pred)\n",
    "        \n",
    "        fscores.append(fscore)\n",
    "        precisions.append(precision)\n",
    "        recalls.append(recall)\n",
    "        \n",
    "    fscores_min.append( min(fscores) )\n",
    "    precision_min.append( min(precisions) )\n",
    "    recall_min.append( min(recalls) )\n",
    "    \n",
    "fscores_min = np.array(fscores_min)\n",
    "fscores_min = np.mean(rolling_window(fscores_min, 5), -1)\n",
    "\n",
    "precision_min = np.array(precision_min)\n",
    "precision_min = np.mean(rolling_window(precision_min, 5), -1)\n",
    "\n",
    "recall_min = np.array(recall_min)\n",
    "recall_min = np.mean(rolling_window(recall_min, 5), -1)"
   ]
  },
  {
   "cell_type": "code",
   "execution_count": 103,
   "metadata": {
    "collapsed": false
   },
   "outputs": [
    {
     "name": "stdout",
     "output_type": "stream",
     "text": [
      "fscore:  0.836567485985\n",
      "precision:  0.940476190476\n",
      "recall:  0.752229546336\n"
     ]
    },
    {
     "data": {
      "text/plain": [
       "array([[-0.00121034, -0.00508861,  0.40264552,  0.03940161,  0.03502284,\n",
       "        -0.02276605]])"
      ]
     },
     "execution_count": 103,
     "metadata": {},
     "output_type": "execute_result"
    }
   ],
   "source": [
    "fold = sk.cross_validation.StratifiedKFold(Y_nonan,n_folds=5,shuffle=True,random_state=42)\n",
    "fscores = []\n",
    "precisions = []\n",
    "recalls = []\n",
    "coefs = []\n",
    "for train_ids, test_ids in fold:\n",
    "    X_train = X_nonan[train_ids]\n",
    "    Y_train = Y_nonan[train_ids]\n",
    "    X_test = X_nonan[test_ids]\n",
    "    Y_test = Y_nonan[test_ids]\n",
    "\n",
    "\n",
    "    #clf = sk.ensemble.RandomForestClassifier(random_state=42,n_estimators=20)\n",
    "    clf = sk.linear_model.RidgeClassifier(class_weight='balanced')\n",
    "    clf.fit(X_train,Y_train)\n",
    "    \n",
    "    coefs.append(clf.coef_)\n",
    "\n",
    "    Y_pred = clf.predict(X_test)\n",
    "\n",
    "    fscores.append(sk.metrics.f1_score(Y_test,Y_pred))\n",
    "    precisions.append(sk.metrics.precision_score(Y_test,Y_pred))\n",
    "    recalls.append(sk.metrics.recall_score(Y_test,Y_pred))\n",
    "\n",
    "print(\"fscore: \",min(fscores))\n",
    "print(\"precision: \",min(precisions))\n",
    "print(\"recall: \",min(recalls))\n",
    "np.array(coefs).mean(axis=0)"
   ]
  },
  {
   "cell_type": "code",
   "execution_count": 106,
   "metadata": {
    "collapsed": false
   },
   "outputs": [],
   "source": [
    "plot(fscores_min,'k')\n",
    "plot(precision_min,'r')\n",
    "plot(recall_min,'b')\n",
    "grid(True)"
   ]
  },
  {
   "cell_type": "code",
   "execution_count": 289,
   "metadata": {
    "collapsed": false
   },
   "outputs": [
    {
     "data": {
      "text/plain": [
       "RandomForestClassifier(bootstrap=True, class_weight=None, criterion='gini',\n",
       "            max_depth=None, max_features='auto', max_leaf_nodes=None,\n",
       "            min_samples_leaf=1, min_samples_split=2,\n",
       "            min_weight_fraction_leaf=0.0, n_estimators=10, n_jobs=1,\n",
       "            oob_score=False, random_state=42, verbose=0, warm_start=False)"
      ]
     },
     "execution_count": 289,
     "metadata": {},
     "output_type": "execute_result"
    }
   ],
   "source": [
    "clf = sk.ensemble.RandomForestClassifier(random_state=42,n_estimators=10)\n",
    "clf.fit(X_nonan,Y_nonan)"
   ]
  },
  {
   "cell_type": "code",
   "execution_count": 193,
   "metadata": {
    "collapsed": true
   },
   "outputs": [],
   "source": [
    "y_pred = clf.predict(X_nonan)"
   ]
  },
  {
   "cell_type": "code",
   "execution_count": 194,
   "metadata": {
    "collapsed": false
   },
   "outputs": [
    {
     "name": "stderr",
     "output_type": "stream",
     "text": [
      "C:\\Users\\Artyom.Fomenko\\Anaconda3\\lib\\site-packages\\sklearn\\metrics\\ranking.py:538: UndefinedMetricWarning: No positive samples in y_true, true positive value should be meaningless\n",
      "  UndefinedMetricWarning)\n"
     ]
    }
   ],
   "source": [
    "y = Y_nonan\n",
    "scores = y_pred\n",
    "fpr, tpr, thresholds = metrics.roc_curve(y, scores, pos_label=2)"
   ]
  },
  {
   "cell_type": "code",
   "execution_count": 204,
   "metadata": {
    "collapsed": false
   },
   "outputs": [
    {
     "data": {
      "text/plain": [
       "1.0"
      ]
     },
     "execution_count": 204,
     "metadata": {},
     "output_type": "execute_result"
    }
   ],
   "source": [
    "sk.metrics.precision_score(Y_nonan,y_pred)"
   ]
  },
  {
   "cell_type": "code",
   "execution_count": 205,
   "metadata": {
    "collapsed": false
   },
   "outputs": [
    {
     "data": {
      "text/plain": [
       "0.99955752212389382"
      ]
     },
     "execution_count": 205,
     "metadata": {},
     "output_type": "execute_result"
    }
   ],
   "source": [
    "sk.metrics.recall_score(Y_nonan,y_pred)"
   ]
  },
  {
   "cell_type": "code",
   "execution_count": null,
   "metadata": {
    "collapsed": true
   },
   "outputs": [],
   "source": []
  }
 ],
 "metadata": {
  "anaconda-cloud": {},
  "kernelspec": {
   "display_name": "Python [Root]",
   "language": "python",
   "name": "Python [Root]"
  },
  "language_info": {
   "codemirror_mode": {
    "name": "ipython",
    "version": 3
   },
   "file_extension": ".py",
   "mimetype": "text/x-python",
   "name": "python",
   "nbconvert_exporter": "python",
   "pygments_lexer": "ipython3",
   "version": "3.5.1"
  }
 },
 "nbformat": 4,
 "nbformat_minor": 0
}
