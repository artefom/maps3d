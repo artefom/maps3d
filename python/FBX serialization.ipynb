{
 "cells": [
  {
   "cell_type": "code",
   "execution_count": 1,
   "metadata": {
    "collapsed": false
   },
   "outputs": [
    {
     "name": "stdout",
     "output_type": "stream",
     "text": [
      "Using matplotlib backend: Qt4Agg\n",
      "Populating the interactive namespace from numpy and matplotlib\n"
     ]
    }
   ],
   "source": [
    "%pylab"
   ]
  },
  {
   "cell_type": "code",
   "execution_count": 20,
   "metadata": {
    "collapsed": false
   },
   "outputs": [],
   "source": [
    "verticies_text =\\\n",
    "\"0.0000 0.0000 -0.0000 \"+\\\n",
    "\"1.0000 0.0000 -0.0000 \"+\\\n",
    "\"0.0000 0.0000 -1.0000 \"+\\\n",
    "\"1.0000 0.0000 -1.0000 \"+\\\n",
    "\"0.0000 1.0000 -0.0000 \"+\\\n",
    "\"1.0000 1.0000 -0.0000 \"+\\\n",
    "\"0.0000 1.0000 -1.0000 \"+\\\n",
    "\"1.0000 1.0000 -1.0000 \"\n",
    "\n",
    "faces_text = \\\n",
    "\"1 3 4 \"+\\\n",
    "\"4 2 1 \"+\\\n",
    "\"5 6 8 \"+\\\n",
    "\"8 7 5 \"+\\\n",
    "\"1 2 6 \"+\\\n",
    "\"6 5 1 \"+\\\n",
    "\"2 4 8 \"+\\\n",
    "\"8 6 2 \"+\\\n",
    "\"4 3 7 \"+\\\n",
    "\"7 8 4 \"+\\\n",
    "\"3 1 5 \"+\\\n",
    "\"5 7 3 \"\n",
    "\n",
    "vertecies = np.array( [ float(i) for i in verticies_text.split() ] )\n",
    "faces     = np.array( [ int(i) for i in faces_text.split() ]).reshape(-1,3)\n"
   ]
  },
  {
   "cell_type": "code",
   "execution_count": 151,
   "metadata": {
    "collapsed": false
   },
   "outputs": [],
   "source": [
    "\n",
    "def tostr(arg):\n",
    "    if isinstance(arg,list):\n",
    "        return \", \".join( [ tostr(i) for i in arg] )\n",
    "    else:\n",
    "        return '\"{}\"'.format(arg) if isinstance(arg,str) else str(arg)\n",
    "\n",
    "    \n",
    "class FBXNode:\n",
    "    \n",
    "    def __init__(self,typename,**kwargs):\n",
    "        self.typename = typename\n",
    "        self.properties = kwargs.get(\"prop\",[])\n",
    "        self.subnodes = kwargs.get(\"sub\",[])\n",
    "    \n",
    "    \n",
    "    def write(self, *args,**kwargs):\n",
    "        for i in range(self.indent_size):\n",
    "            self.file.write(\"\\t\")\n",
    "        self.file.write(*args,**kwargs)\n",
    "    \n",
    "    def writeln(self, *args, **kwargs):\n",
    "        if len(args) > 0:\n",
    "            self.write(*args,**kwargs)\n",
    "        self.file.write(\"\\n\")\n",
    "        \n",
    "    def addProperty( self, prop ):\n",
    "        if not isinstance(self.properties,list):\n",
    "            self.properties = [self.properties]\n",
    "        self.properties.append(prop)\n",
    "        \n",
    "    def addNode( self, *args ):\n",
    "        if len(args) == 0:\n",
    "            return\n",
    "        \n",
    "        if isinstance(args[0],FBXNode):\n",
    "            self.subnodes.append(args[0])\n",
    "        else:\n",
    "            if len(args) == 2:\n",
    "                newNode = FBXNode(args[0],prop = args[1])\n",
    "                self.subnodes.append(newNode)\n",
    "            \n",
    "        \n",
    "    def serialize( self, file, *args, **kwargs):\n",
    "        self.file = file\n",
    "        self.indent_size = kwargs.get(\"indent_size\",0)\n",
    "        \n",
    "        #write typename\n",
    "        self.write(\"{}: \".format(self.typename))\n",
    "        \n",
    "        #write name properties\n",
    "        file.write(\"{}\".format(tostr(self.properties)))\n",
    "        \n",
    "        #write subnodes\n",
    "        if not (self.subnodes is None) and len(self.subnodes) > 0:\n",
    "            self.writeln(\" {\")\n",
    "            for node in self.subnodes:\n",
    "                node.serialize(file,indent_size = self.indent_size+1)\n",
    "            self.writeln(\"}\")\n",
    "        else:\n",
    "            self.writeln()"
   ]
  },
  {
   "cell_type": "code",
   "execution_count": 153,
   "metadata": {
    "collapsed": false
   },
   "outputs": [],
   "source": [
    "node = FBXNode(\"Test\")\n",
    "node.addProperty(\"Fuck\")\n",
    "node.addProperty(10)\n",
    "node.addNode(\"Fuck me\",[1,2,3,4,\"BITCH\"])\n",
    "\n",
    "node2 = FBXNode(\"Test2\")\n",
    "node2.addProperty(\"G\")\n",
    "node2.addProperty(20)\n",
    "node2.addProperty(3)\n",
    "\n",
    "node.addNode(node2)\n",
    "\n",
    "with open(\"test.fbx\",\"w\") as f:\n",
    "    node.serialize(f)"
   ]
  },
  {
   "cell_type": "code",
   "execution_count": null,
   "metadata": {
    "collapsed": true
   },
   "outputs": [],
   "source": []
  }
 ],
 "metadata": {
  "kernelspec": {
   "display_name": "Python [Root]",
   "language": "python",
   "name": "Python [Root]"
  },
  "language_info": {
   "codemirror_mode": {
    "name": "ipython",
    "version": 3
   },
   "file_extension": ".py",
   "mimetype": "text/x-python",
   "name": "python",
   "nbconvert_exporter": "python",
   "pygments_lexer": "ipython3",
   "version": "3.5.1"
  }
 },
 "nbformat": 4,
 "nbformat_minor": 0
}
